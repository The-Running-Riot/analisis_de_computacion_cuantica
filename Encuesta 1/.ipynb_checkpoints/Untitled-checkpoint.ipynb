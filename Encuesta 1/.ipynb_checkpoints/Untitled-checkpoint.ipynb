{
 "cells": [
  {
   "cell_type": "code",
   "execution_count": null,
   "id": "611e4ec9-5ead-426a-b654-c29b69a0691d",
   "metadata": {},
   "outputs": [],
   "source": [
    "import pandas as pd\n",
    "import numpy as np\n",
    "import re"
   ]
  },
  {
   "cell_type": "code",
   "execution_count": null,
   "id": "da979216-3e7d-41bd-9958-5be03a49cb03",
   "metadata": {},
   "outputs": [],
   "source": [
    "import seaborn as sns\n",
    "import matplotlib.pyplot as plt"
   ]
  },
  {
   "cell_type": "code",
   "execution_count": null,
   "id": "f6eaad1d-e332-4cfc-8b6e-7eb84dfc8438",
   "metadata": {},
   "outputs": [],
   "source": [
    "from sklearn.preprocessing import StandardScaler\n",
    "from sklearn.decomposition import PCA\n",
    "\n",
    "from sklearn.cluster import KMeans"
   ]
  },
  {
   "cell_type": "code",
   "execution_count": 119,
   "id": "5acbb538-97f8-4ca5-a0f5-84a8f4355d0b",
   "metadata": {},
   "outputs": [],
   "source": [
    "from scipy.stats import chi2_contingency"
   ]
  },
  {
   "cell_type": "code",
   "execution_count": null,
   "id": "860e6b15-63b4-4263-8450-78d1775d6874",
   "metadata": {},
   "outputs": [],
   "source": [
    "encuesta1 = pd.read_csv('rencuesta1.csv', delimiter=';' )\n",
    "variablesE1 = pd.read_csv('variables1.csv' , delimiter=';' )\n",
    "equivalente_lengua = pd.read_csv('equivalentes_lengua_variablesE1.csv', delimiter=';')"
   ]
  },
  {
   "cell_type": "code",
   "execution_count": null,
   "id": "9d0686ff-453a-43ec-b721-e2e1195d037b",
   "metadata": {},
   "outputs": [],
   "source": [
    "print(encuesta1.columns)"
   ]
  },
  {
   "cell_type": "code",
   "execution_count": null,
   "id": "a393f5e1-ee68-4c2f-813e-cf9c50066744",
   "metadata": {},
   "outputs": [],
   "source": [
    "encuesta1 = encuesta1.drop(['ID', 'Hora de inicio','Hora de finalización','Correo electrónico','Nombre'], axis=1)"
   ]
  },
  {
   "cell_type": "code",
   "execution_count": null,
   "id": "f4d36f35-a84d-49d9-8408-1842ca89a155",
   "metadata": {},
   "outputs": [],
   "source": [
    "encuesta1.columns"
   ]
  },
  {
   "cell_type": "code",
   "execution_count": 45,
   "id": "8d045856-bc16-4e11-84a3-b9c98f9d2cb7",
   "metadata": {},
   "outputs": [
    {
     "data": {
      "text/plain": [
       "57"
      ]
     },
     "execution_count": 45,
     "metadata": {},
     "output_type": "execute_result"
    }
   ],
   "source": [
    "len(encuesta1.columns)"
   ]
  },
  {
   "cell_type": "code",
   "execution_count": 46,
   "id": "c9ba0ba3-af0d-4b85-8fa9-ed6f27bcd025",
   "metadata": {},
   "outputs": [
    {
     "data": {
      "text/html": [
       "<div>\n",
       "<style scoped>\n",
       "    .dataframe tbody tr th:only-of-type {\n",
       "        vertical-align: middle;\n",
       "    }\n",
       "\n",
       "    .dataframe tbody tr th {\n",
       "        vertical-align: top;\n",
       "    }\n",
       "\n",
       "    .dataframe thead th {\n",
       "        text-align: right;\n",
       "    }\n",
       "</style>\n",
       "<table border=\"1\" class=\"dataframe\">\n",
       "  <thead>\n",
       "    <tr style=\"text-align: right;\">\n",
       "      <th></th>\n",
       "      <th>preguntas</th>\n",
       "      <th>variables</th>\n",
       "    </tr>\n",
       "  </thead>\n",
       "  <tbody>\n",
       "    <tr>\n",
       "      <th>0</th>\n",
       "      <td>En que momento de la charla está llenando la e...</td>\n",
       "      <td>post_charla</td>\n",
       "    </tr>\n",
       "    <tr>\n",
       "      <th>1</th>\n",
       "      <td>Edad [0-17, 18-30,31-40,41-50,51+]</td>\n",
       "      <td>edad</td>\n",
       "    </tr>\n",
       "    <tr>\n",
       "      <th>2</th>\n",
       "      <td>Zona Rural o Urbana /Vive fuera o dentro de la...</td>\n",
       "      <td>zona</td>\n",
       "    </tr>\n",
       "    <tr>\n",
       "      <th>3</th>\n",
       "      <td>Genero [Femenino,Masculino, Prefiero no especi...</td>\n",
       "      <td>sex</td>\n",
       "    </tr>\n",
       "    <tr>\n",
       "      <th>4</th>\n",
       "      <td>Trabajas Si/No</td>\n",
       "      <td>trabaja</td>\n",
       "    </tr>\n",
       "    <tr>\n",
       "      <th>5</th>\n",
       "      <td>Que carrera estudias?</td>\n",
       "      <td>carrera</td>\n",
       "    </tr>\n",
       "    <tr>\n",
       "      <th>6</th>\n",
       "      <td>En que año de la carrera estás? [1er,2do,3er,4...</td>\n",
       "      <td>annio_carrera</td>\n",
       "    </tr>\n",
       "    <tr>\n",
       "      <th>7</th>\n",
       "      <td>Te consideras autodidacta Si/No</td>\n",
       "      <td>autodidacta</td>\n",
       "    </tr>\n",
       "    <tr>\n",
       "      <th>8</th>\n",
       "      <td>Cientificos</td>\n",
       "      <td>temas_interes_cie</td>\n",
       "    </tr>\n",
       "    <tr>\n",
       "      <th>9</th>\n",
       "      <td>Tecnologicos</td>\n",
       "      <td>temas_interes_tec</td>\n",
       "    </tr>\n",
       "    <tr>\n",
       "      <th>10</th>\n",
       "      <td>Matematicos</td>\n",
       "      <td>temas_interes_mate</td>\n",
       "    </tr>\n",
       "    <tr>\n",
       "      <th>11</th>\n",
       "      <td>Literarios</td>\n",
       "      <td>temas_interes_lit</td>\n",
       "    </tr>\n",
       "    <tr>\n",
       "      <th>12</th>\n",
       "      <td>Consideras que el tiempo que dispones para es...</td>\n",
       "      <td>tiempo_estudio</td>\n",
       "    </tr>\n",
       "    <tr>\n",
       "      <th>13</th>\n",
       "      <td>Tiene buen acceso a internet? Si/No</td>\n",
       "      <td>internet</td>\n",
       "    </tr>\n",
       "    <tr>\n",
       "      <th>14</th>\n",
       "      <td>¿Cuál es la gama de tu computadora? [Baja,Medi...</td>\n",
       "      <td>gama_pc</td>\n",
       "    </tr>\n",
       "    <tr>\n",
       "      <th>15</th>\n",
       "      <td>¿Crees que tienes suficientes habilidades de p...</td>\n",
       "      <td>habilidad_progra</td>\n",
       "    </tr>\n",
       "    <tr>\n",
       "      <th>16</th>\n",
       "      <td>Con cuales de los siguientes lenguajes de prog...</td>\n",
       "      <td>lengua_progra</td>\n",
       "    </tr>\n",
       "    <tr>\n",
       "      <th>17</th>\n",
       "      <td>Fisica cuantica</td>\n",
       "      <td>conocimento_cat_fc</td>\n",
       "    </tr>\n",
       "    <tr>\n",
       "      <th>18</th>\n",
       "      <td>Arquitectura de computadoras</td>\n",
       "      <td>conocimento_cat_arq</td>\n",
       "    </tr>\n",
       "    <tr>\n",
       "      <th>19</th>\n",
       "      <td>Programacion</td>\n",
       "      <td>conocimento_cat_pro</td>\n",
       "    </tr>\n",
       "    <tr>\n",
       "      <th>20</th>\n",
       "      <td>Diseño de compiladores</td>\n",
       "      <td>conocimento_cat_di</td>\n",
       "    </tr>\n",
       "    <tr>\n",
       "      <th>21</th>\n",
       "      <td>Matematicas</td>\n",
       "      <td>conocimento_cat_mat</td>\n",
       "    </tr>\n",
       "    <tr>\n",
       "      <th>22</th>\n",
       "      <td>¿Qué tan informado te sientes sobre los último...</td>\n",
       "      <td>avance_cientifico</td>\n",
       "    </tr>\n",
       "    <tr>\n",
       "      <th>23</th>\n",
       "      <td>¿Crees que la información científica está disp...</td>\n",
       "      <td>info_disponible_cientifico</td>\n",
       "    </tr>\n",
       "    <tr>\n",
       "      <th>24</th>\n",
       "      <td>¿Has participado alguna vez en eventos de divu...</td>\n",
       "      <td>evento_divulg</td>\n",
       "    </tr>\n",
       "    <tr>\n",
       "      <th>25</th>\n",
       "      <td>¿En que ámbitos se alinean las charlas y confe...</td>\n",
       "      <td>ambito_charla</td>\n",
       "    </tr>\n",
       "    <tr>\n",
       "      <th>26</th>\n",
       "      <td>¿Cómo clasificarías el nivel de divulgación ci...</td>\n",
       "      <td>nivel_divulg</td>\n",
       "    </tr>\n",
       "    <tr>\n",
       "      <th>27</th>\n",
       "      <td>¿Crees que la falta de interés del público es ...</td>\n",
       "      <td>interes_divulg</td>\n",
       "    </tr>\n",
       "    <tr>\n",
       "      <th>28</th>\n",
       "      <td>¿Crees que la falta de presupuesto es la princ...</td>\n",
       "      <td>presupuesto_divulg</td>\n",
       "    </tr>\n",
       "    <tr>\n",
       "      <th>29</th>\n",
       "      <td>¿Crees que las universidades deberían incluir ...</td>\n",
       "      <td>contenido_cientifico</td>\n",
       "    </tr>\n",
       "    <tr>\n",
       "      <th>30</th>\n",
       "      <td>¿Crees que las universidades deberían incluir ...</td>\n",
       "      <td>contenido_profesional</td>\n",
       "    </tr>\n",
       "    <tr>\n",
       "      <th>31</th>\n",
       "      <td>Según lo que consideres, ¿Cual es el grado de ...</td>\n",
       "      <td>responsabilidad_divulg</td>\n",
       "    </tr>\n",
       "    <tr>\n",
       "      <th>32</th>\n",
       "      <td>¿Has escuchado sobre la computación cuántica?</td>\n",
       "      <td>escu_cuantica</td>\n",
       "    </tr>\n",
       "    <tr>\n",
       "      <th>33</th>\n",
       "      <td>¿Cuanto nivel tienes sobre la tecnología cuant...</td>\n",
       "      <td>nivel_cuantica</td>\n",
       "    </tr>\n",
       "    <tr>\n",
       "      <th>34</th>\n",
       "      <td>¿Qué tanto conocimiento consideras tener sobre...</td>\n",
       "      <td>conocimiento_cuantica</td>\n",
       "    </tr>\n",
       "    <tr>\n",
       "      <th>35</th>\n",
       "      <td>Considera que hay información necesaria para ...</td>\n",
       "      <td>info_cuantica</td>\n",
       "    </tr>\n",
       "    <tr>\n",
       "      <th>36</th>\n",
       "      <td>¿Cree que se debería invertir más en la invest...</td>\n",
       "      <td>inversion_cuantica</td>\n",
       "    </tr>\n",
       "    <tr>\n",
       "      <th>37</th>\n",
       "      <td>¿Cree que la computación cuántica tiene el pot...</td>\n",
       "      <td>cambio_mundo_cuantica</td>\n",
       "    </tr>\n",
       "    <tr>\n",
       "      <th>38</th>\n",
       "      <td>¿Cree que la computación cuántica tendrá un im...</td>\n",
       "      <td>impacto_industria_cuantica</td>\n",
       "    </tr>\n",
       "    <tr>\n",
       "      <th>39</th>\n",
       "      <td>¿Crees que los docentes de la universidad ince...</td>\n",
       "      <td>docentes_incentivo</td>\n",
       "    </tr>\n",
       "    <tr>\n",
       "      <th>40</th>\n",
       "      <td>¿Crees que en la UNAH no se incentiva la inves...</td>\n",
       "      <td>unah_incentivo</td>\n",
       "    </tr>\n",
       "    <tr>\n",
       "      <th>41</th>\n",
       "      <td>¿Qué clases consideras que tienen una conexión...</td>\n",
       "      <td>conexion_tematica</td>\n",
       "    </tr>\n",
       "    <tr>\n",
       "      <th>42</th>\n",
       "      <td>¿Qué tan interesado estaría en participar en u...</td>\n",
       "      <td>interes_tema_disruptivo</td>\n",
       "    </tr>\n",
       "    <tr>\n",
       "      <th>43</th>\n",
       "      <td>¿Consideraría importante tener la oportunidad ...</td>\n",
       "      <td>participar_investigacion_disruptiva</td>\n",
       "    </tr>\n",
       "    <tr>\n",
       "      <th>44</th>\n",
       "      <td>Big Data</td>\n",
       "      <td>temas_disruptivo_bd</td>\n",
       "    </tr>\n",
       "    <tr>\n",
       "      <th>45</th>\n",
       "      <td>IA</td>\n",
       "      <td>temas_disruptivo_ia</td>\n",
       "    </tr>\n",
       "    <tr>\n",
       "      <th>46</th>\n",
       "      <td>Ciberseguridad</td>\n",
       "      <td>temas_disruptivo_cib</td>\n",
       "    </tr>\n",
       "    <tr>\n",
       "      <th>47</th>\n",
       "      <td>Blockchain</td>\n",
       "      <td>temas_disruptivo_bc</td>\n",
       "    </tr>\n",
       "    <tr>\n",
       "      <th>48</th>\n",
       "      <td>Realidad virtual y aumentada</td>\n",
       "      <td>temas_disruptivo_va</td>\n",
       "    </tr>\n",
       "    <tr>\n",
       "      <th>49</th>\n",
       "      <td>Nanotecnologia</td>\n",
       "      <td>temas_disruptivo_nano</td>\n",
       "    </tr>\n",
       "    <tr>\n",
       "      <th>50</th>\n",
       "      <td>¿A que cursos recomendarías esta charla sobre ...</td>\n",
       "      <td>segmento_interes_charla</td>\n",
       "    </tr>\n",
       "    <tr>\n",
       "      <th>51</th>\n",
       "      <td>Te gustaria seguir aprendiendo sobre computaci...</td>\n",
       "      <td>curso_cuantica</td>\n",
       "    </tr>\n",
       "    <tr>\n",
       "      <th>52</th>\n",
       "      <td>¿Te inscribirias en un curso sobre cuantica má...</td>\n",
       "      <td>charla_informativa</td>\n",
       "    </tr>\n",
       "    <tr>\n",
       "      <th>53</th>\n",
       "      <td>¿La charla sobre computación cuántica fue info...</td>\n",
       "      <td>cursos_recomendaciones</td>\n",
       "    </tr>\n",
       "    <tr>\n",
       "      <th>54</th>\n",
       "      <td>¿Qué parte de la charla te pareció más interes...</td>\n",
       "      <td>charla_util</td>\n",
       "    </tr>\n",
       "    <tr>\n",
       "      <th>55</th>\n",
       "      <td>¿Crees que la charla te dio una idea clara de ...</td>\n",
       "      <td>idea_aplicaciones_charla</td>\n",
       "    </tr>\n",
       "    <tr>\n",
       "      <th>56</th>\n",
       "      <td>¿Cómo clasificarías la calidad general de la c...</td>\n",
       "      <td>calificacion_charla</td>\n",
       "    </tr>\n",
       "  </tbody>\n",
       "</table>\n",
       "</div>"
      ],
      "text/plain": [
       "                                            preguntas  \\\n",
       "0   En que momento de la charla está llenando la e...   \n",
       "1                  Edad [0-17, 18-30,31-40,41-50,51+]   \n",
       "2   Zona Rural o Urbana /Vive fuera o dentro de la...   \n",
       "3   Genero [Femenino,Masculino, Prefiero no especi...   \n",
       "4                                      Trabajas Si/No   \n",
       "5                               Que carrera estudias?   \n",
       "6   En que año de la carrera estás? [1er,2do,3er,4...   \n",
       "7                     Te consideras autodidacta Si/No   \n",
       "8                                         Cientificos   \n",
       "9                                        Tecnologicos   \n",
       "10                                        Matematicos   \n",
       "11                                         Literarios   \n",
       "12   Consideras que el tiempo que dispones para es...   \n",
       "13                Tiene buen acceso a internet? Si/No   \n",
       "14  ¿Cuál es la gama de tu computadora? [Baja,Medi...   \n",
       "15  ¿Crees que tienes suficientes habilidades de p...   \n",
       "16  Con cuales de los siguientes lenguajes de prog...   \n",
       "17                                    Fisica cuantica   \n",
       "18                       Arquitectura de computadoras   \n",
       "19                                       Programacion   \n",
       "20                             Diseño de compiladores   \n",
       "21                                        Matematicas   \n",
       "22  ¿Qué tan informado te sientes sobre los último...   \n",
       "23  ¿Crees que la información científica está disp...   \n",
       "24  ¿Has participado alguna vez en eventos de divu...   \n",
       "25  ¿En que ámbitos se alinean las charlas y confe...   \n",
       "26  ¿Cómo clasificarías el nivel de divulgación ci...   \n",
       "27  ¿Crees que la falta de interés del público es ...   \n",
       "28  ¿Crees que la falta de presupuesto es la princ...   \n",
       "29  ¿Crees que las universidades deberían incluir ...   \n",
       "30  ¿Crees que las universidades deberían incluir ...   \n",
       "31  Según lo que consideres, ¿Cual es el grado de ...   \n",
       "32      ¿Has escuchado sobre la computación cuántica?   \n",
       "33  ¿Cuanto nivel tienes sobre la tecnología cuant...   \n",
       "34  ¿Qué tanto conocimiento consideras tener sobre...   \n",
       "35   Considera que hay información necesaria para ...   \n",
       "36  ¿Cree que se debería invertir más en la invest...   \n",
       "37  ¿Cree que la computación cuántica tiene el pot...   \n",
       "38  ¿Cree que la computación cuántica tendrá un im...   \n",
       "39  ¿Crees que los docentes de la universidad ince...   \n",
       "40  ¿Crees que en la UNAH no se incentiva la inves...   \n",
       "41  ¿Qué clases consideras que tienen una conexión...   \n",
       "42  ¿Qué tan interesado estaría en participar en u...   \n",
       "43  ¿Consideraría importante tener la oportunidad ...   \n",
       "44                                           Big Data   \n",
       "45                                                 IA   \n",
       "46                                     Ciberseguridad   \n",
       "47                                         Blockchain   \n",
       "48                       Realidad virtual y aumentada   \n",
       "49                                     Nanotecnologia   \n",
       "50  ¿A que cursos recomendarías esta charla sobre ...   \n",
       "51  Te gustaria seguir aprendiendo sobre computaci...   \n",
       "52  ¿Te inscribirias en un curso sobre cuantica má...   \n",
       "53  ¿La charla sobre computación cuántica fue info...   \n",
       "54  ¿Qué parte de la charla te pareció más interes...   \n",
       "55  ¿Crees que la charla te dio una idea clara de ...   \n",
       "56  ¿Cómo clasificarías la calidad general de la c...   \n",
       "\n",
       "                              variables  \n",
       "0                           post_charla  \n",
       "1                                  edad  \n",
       "2                                  zona  \n",
       "3                                   sex  \n",
       "4                               trabaja  \n",
       "5                               carrera  \n",
       "6                         annio_carrera  \n",
       "7                           autodidacta  \n",
       "8                     temas_interes_cie  \n",
       "9                     temas_interes_tec  \n",
       "10                   temas_interes_mate  \n",
       "11                    temas_interes_lit  \n",
       "12                       tiempo_estudio  \n",
       "13                             internet  \n",
       "14                              gama_pc  \n",
       "15                     habilidad_progra  \n",
       "16                        lengua_progra  \n",
       "17                   conocimento_cat_fc  \n",
       "18                  conocimento_cat_arq  \n",
       "19                  conocimento_cat_pro  \n",
       "20                   conocimento_cat_di  \n",
       "21                  conocimento_cat_mat  \n",
       "22                    avance_cientifico  \n",
       "23           info_disponible_cientifico  \n",
       "24                        evento_divulg  \n",
       "25                        ambito_charla  \n",
       "26                         nivel_divulg  \n",
       "27                       interes_divulg  \n",
       "28                   presupuesto_divulg  \n",
       "29                 contenido_cientifico  \n",
       "30                contenido_profesional  \n",
       "31               responsabilidad_divulg  \n",
       "32                        escu_cuantica  \n",
       "33                       nivel_cuantica  \n",
       "34                conocimiento_cuantica  \n",
       "35                        info_cuantica  \n",
       "36                   inversion_cuantica  \n",
       "37                cambio_mundo_cuantica  \n",
       "38           impacto_industria_cuantica  \n",
       "39                   docentes_incentivo  \n",
       "40                       unah_incentivo  \n",
       "41                    conexion_tematica  \n",
       "42              interes_tema_disruptivo  \n",
       "43  participar_investigacion_disruptiva  \n",
       "44                  temas_disruptivo_bd  \n",
       "45                  temas_disruptivo_ia  \n",
       "46                 temas_disruptivo_cib  \n",
       "47                  temas_disruptivo_bc  \n",
       "48                  temas_disruptivo_va  \n",
       "49                temas_disruptivo_nano  \n",
       "50              segmento_interes_charla  \n",
       "51                       curso_cuantica  \n",
       "52                   charla_informativa  \n",
       "53               cursos_recomendaciones  \n",
       "54                          charla_util  \n",
       "55             idea_aplicaciones_charla  \n",
       "56                  calificacion_charla  "
      ]
     },
     "execution_count": 46,
     "metadata": {},
     "output_type": "execute_result"
    }
   ],
   "source": [
    "variablesE1"
   ]
  },
  {
   "cell_type": "code",
   "execution_count": 47,
   "id": "f38ffa47-e705-4dcc-b29e-a1c5aa10f61d",
   "metadata": {},
   "outputs": [],
   "source": [
    "encuesta1.columns  = variablesE1.loc[ : , 'variables' ]"
   ]
  },
  {
   "cell_type": "code",
   "execution_count": 48,
   "id": "5c41b145-3fcf-4a3a-844a-10e8a9990b5f",
   "metadata": {},
   "outputs": [
    {
     "data": {
      "text/html": [
       "<div>\n",
       "<style scoped>\n",
       "    .dataframe tbody tr th:only-of-type {\n",
       "        vertical-align: middle;\n",
       "    }\n",
       "\n",
       "    .dataframe tbody tr th {\n",
       "        vertical-align: top;\n",
       "    }\n",
       "\n",
       "    .dataframe thead th {\n",
       "        text-align: right;\n",
       "    }\n",
       "</style>\n",
       "<table border=\"1\" class=\"dataframe\">\n",
       "  <thead>\n",
       "    <tr style=\"text-align: right;\">\n",
       "      <th>variables</th>\n",
       "      <th>post_charla</th>\n",
       "      <th>edad</th>\n",
       "      <th>zona</th>\n",
       "      <th>sex</th>\n",
       "      <th>trabaja</th>\n",
       "      <th>carrera</th>\n",
       "      <th>annio_carrera</th>\n",
       "      <th>autodidacta</th>\n",
       "      <th>temas_interes_cie</th>\n",
       "      <th>temas_interes_tec</th>\n",
       "      <th>...</th>\n",
       "      <th>temas_disruptivo_bc</th>\n",
       "      <th>temas_disruptivo_va</th>\n",
       "      <th>temas_disruptivo_nano</th>\n",
       "      <th>segmento_interes_charla</th>\n",
       "      <th>curso_cuantica</th>\n",
       "      <th>charla_informativa</th>\n",
       "      <th>cursos_recomendaciones</th>\n",
       "      <th>charla_util</th>\n",
       "      <th>idea_aplicaciones_charla</th>\n",
       "      <th>calificacion_charla</th>\n",
       "    </tr>\n",
       "  </thead>\n",
       "  <tbody>\n",
       "    <tr>\n",
       "      <th>0</th>\n",
       "      <td>Antes de la Charla</td>\n",
       "      <td>22-27</td>\n",
       "      <td>Zona Urbana</td>\n",
       "      <td>Masculino</td>\n",
       "      <td>Si</td>\n",
       "      <td>Ingeniería en Sistemas</td>\n",
       "      <td>5to año o más</td>\n",
       "      <td>Si</td>\n",
       "      <td>5.0</td>\n",
       "      <td>5.0</td>\n",
       "      <td>...</td>\n",
       "      <td>Despues de charla</td>\n",
       "      <td>Despues de charla</td>\n",
       "      <td>Despues de charla</td>\n",
       "      <td>Despues de charla</td>\n",
       "      <td>Despues de charla</td>\n",
       "      <td>Despues de charla</td>\n",
       "      <td>Despues de charla</td>\n",
       "      <td>Despues de charla</td>\n",
       "      <td>Despues de charla</td>\n",
       "      <td>Despues de charla</td>\n",
       "    </tr>\n",
       "    <tr>\n",
       "      <th>1</th>\n",
       "      <td>Antes de la Charla</td>\n",
       "      <td>28-32</td>\n",
       "      <td>Zona Urbana</td>\n",
       "      <td>Femenino</td>\n",
       "      <td>Si</td>\n",
       "      <td>Ingeniería en Sistemas</td>\n",
       "      <td>5to año o más</td>\n",
       "      <td>Si</td>\n",
       "      <td>1.0</td>\n",
       "      <td>5.0</td>\n",
       "      <td>...</td>\n",
       "      <td>Despues de charla</td>\n",
       "      <td>Despues de charla</td>\n",
       "      <td>Despues de charla</td>\n",
       "      <td>Despues de charla</td>\n",
       "      <td>Despues de charla</td>\n",
       "      <td>Despues de charla</td>\n",
       "      <td>Despues de charla</td>\n",
       "      <td>Despues de charla</td>\n",
       "      <td>Despues de charla</td>\n",
       "      <td>Despues de charla</td>\n",
       "    </tr>\n",
       "    <tr>\n",
       "      <th>2</th>\n",
       "      <td>Antes de la Charla</td>\n",
       "      <td>22-27</td>\n",
       "      <td>Zona Urbana</td>\n",
       "      <td>Femenino</td>\n",
       "      <td>Si</td>\n",
       "      <td>Ingeniería en Sistemas</td>\n",
       "      <td>5to año o más</td>\n",
       "      <td>Si</td>\n",
       "      <td>2.0</td>\n",
       "      <td>3.0</td>\n",
       "      <td>...</td>\n",
       "      <td>Despues de charla</td>\n",
       "      <td>Despues de charla</td>\n",
       "      <td>Despues de charla</td>\n",
       "      <td>Despues de charla</td>\n",
       "      <td>Despues de charla</td>\n",
       "      <td>Despues de charla</td>\n",
       "      <td>Despues de charla</td>\n",
       "      <td>Despues de charla</td>\n",
       "      <td>Despues de charla</td>\n",
       "      <td>Despues de charla</td>\n",
       "    </tr>\n",
       "    <tr>\n",
       "      <th>3</th>\n",
       "      <td>Antes de la Charla</td>\n",
       "      <td>22-27</td>\n",
       "      <td>Zona Urbana</td>\n",
       "      <td>Masculino</td>\n",
       "      <td>No</td>\n",
       "      <td>Ingeniería en Sistemas</td>\n",
       "      <td>5to año o más</td>\n",
       "      <td>Si</td>\n",
       "      <td>5.0</td>\n",
       "      <td>5.0</td>\n",
       "      <td>...</td>\n",
       "      <td>Despues de charla</td>\n",
       "      <td>Despues de charla</td>\n",
       "      <td>Despues de charla</td>\n",
       "      <td>Despues de charla</td>\n",
       "      <td>Despues de charla</td>\n",
       "      <td>Despues de charla</td>\n",
       "      <td>Despues de charla</td>\n",
       "      <td>Despues de charla</td>\n",
       "      <td>Despues de charla</td>\n",
       "      <td>Despues de charla</td>\n",
       "    </tr>\n",
       "    <tr>\n",
       "      <th>4</th>\n",
       "      <td>Antes de la Charla</td>\n",
       "      <td>17-21</td>\n",
       "      <td>Zona Urbana</td>\n",
       "      <td>Masculino</td>\n",
       "      <td>Si</td>\n",
       "      <td>Ingeniería en Sistemas</td>\n",
       "      <td>4to año</td>\n",
       "      <td>Si</td>\n",
       "      <td>3.0</td>\n",
       "      <td>3.0</td>\n",
       "      <td>...</td>\n",
       "      <td>Despues de charla</td>\n",
       "      <td>Despues de charla</td>\n",
       "      <td>Despues de charla</td>\n",
       "      <td>Despues de charla</td>\n",
       "      <td>Despues de charla</td>\n",
       "      <td>Despues de charla</td>\n",
       "      <td>Despues de charla</td>\n",
       "      <td>Despues de charla</td>\n",
       "      <td>Despues de charla</td>\n",
       "      <td>Despues de charla</td>\n",
       "    </tr>\n",
       "    <tr>\n",
       "      <th>...</th>\n",
       "      <td>...</td>\n",
       "      <td>...</td>\n",
       "      <td>...</td>\n",
       "      <td>...</td>\n",
       "      <td>...</td>\n",
       "      <td>...</td>\n",
       "      <td>...</td>\n",
       "      <td>...</td>\n",
       "      <td>...</td>\n",
       "      <td>...</td>\n",
       "      <td>...</td>\n",
       "      <td>...</td>\n",
       "      <td>...</td>\n",
       "      <td>...</td>\n",
       "      <td>...</td>\n",
       "      <td>...</td>\n",
       "      <td>...</td>\n",
       "      <td>...</td>\n",
       "      <td>...</td>\n",
       "      <td>...</td>\n",
       "      <td>...</td>\n",
       "    </tr>\n",
       "    <tr>\n",
       "      <th>79</th>\n",
       "      <td>Después de la Charla</td>\n",
       "      <td>Antes de la charla</td>\n",
       "      <td>Antes de la charla</td>\n",
       "      <td>Antes de la charla</td>\n",
       "      <td>Antes de la charla</td>\n",
       "      <td>Antes de la charla</td>\n",
       "      <td>Antes de la charla</td>\n",
       "      <td>Antes de la charla</td>\n",
       "      <td>Antes de la charla</td>\n",
       "      <td>Antes de la charla</td>\n",
       "      <td>...</td>\n",
       "      <td>Medio</td>\n",
       "      <td>Medio</td>\n",
       "      <td>Poco</td>\n",
       "      <td>Arquitectura de Computadores;Diseño Digital;Ba...</td>\n",
       "      <td>Si</td>\n",
       "      <td>No</td>\n",
       "      <td>Si</td>\n",
       "      <td>Aplicaciones de la Cuántica;</td>\n",
       "      <td>Si</td>\n",
       "      <td>5.0</td>\n",
       "    </tr>\n",
       "    <tr>\n",
       "      <th>80</th>\n",
       "      <td>Después de la Charla</td>\n",
       "      <td>Antes de la charla</td>\n",
       "      <td>Antes de la charla</td>\n",
       "      <td>Antes de la charla</td>\n",
       "      <td>Antes de la charla</td>\n",
       "      <td>Antes de la charla</td>\n",
       "      <td>Antes de la charla</td>\n",
       "      <td>Antes de la charla</td>\n",
       "      <td>Antes de la charla</td>\n",
       "      <td>Antes de la charla</td>\n",
       "      <td>...</td>\n",
       "      <td>Poco</td>\n",
       "      <td>Medio</td>\n",
       "      <td>Medio</td>\n",
       "      <td>Arquitectura de Computadores;Diseño Digital;Co...</td>\n",
       "      <td>Si</td>\n",
       "      <td>Solo si es gratis</td>\n",
       "      <td>Si</td>\n",
       "      <td>Aplicaciones de la Cuántica;</td>\n",
       "      <td>Si</td>\n",
       "      <td>4.0</td>\n",
       "    </tr>\n",
       "    <tr>\n",
       "      <th>81</th>\n",
       "      <td>Después de la Charla</td>\n",
       "      <td>Antes de la charla</td>\n",
       "      <td>Antes de la charla</td>\n",
       "      <td>Antes de la charla</td>\n",
       "      <td>Antes de la charla</td>\n",
       "      <td>Antes de la charla</td>\n",
       "      <td>Antes de la charla</td>\n",
       "      <td>Antes de la charla</td>\n",
       "      <td>Antes de la charla</td>\n",
       "      <td>Antes de la charla</td>\n",
       "      <td>...</td>\n",
       "      <td>Poco</td>\n",
       "      <td>Medio</td>\n",
       "      <td>Medio</td>\n",
       "      <td>Arquitectura de Computadores;Diseño Digital;Co...</td>\n",
       "      <td>Si</td>\n",
       "      <td>Solo si es gratis</td>\n",
       "      <td>Si</td>\n",
       "      <td>Fundamentos Computación Cuántica;Aplicaciones ...</td>\n",
       "      <td>Si</td>\n",
       "      <td>4.0</td>\n",
       "    </tr>\n",
       "    <tr>\n",
       "      <th>82</th>\n",
       "      <td>Después de la Charla</td>\n",
       "      <td>Antes de la charla</td>\n",
       "      <td>Antes de la charla</td>\n",
       "      <td>Antes de la charla</td>\n",
       "      <td>Antes de la charla</td>\n",
       "      <td>Antes de la charla</td>\n",
       "      <td>Antes de la charla</td>\n",
       "      <td>Antes de la charla</td>\n",
       "      <td>Antes de la charla</td>\n",
       "      <td>Antes de la charla</td>\n",
       "      <td>...</td>\n",
       "      <td>Muy alto</td>\n",
       "      <td>Alto</td>\n",
       "      <td>Muy alto</td>\n",
       "      <td>Compiladores;Arquitectura de Computadores;Sist...</td>\n",
       "      <td>Si</td>\n",
       "      <td>Solo si es gratis</td>\n",
       "      <td>Si</td>\n",
       "      <td>Fundamentos Computación Cuántica;Aplicaciones ...</td>\n",
       "      <td>Si</td>\n",
       "      <td>5.0</td>\n",
       "    </tr>\n",
       "    <tr>\n",
       "      <th>83</th>\n",
       "      <td>Después de la Charla</td>\n",
       "      <td>Antes de la charla</td>\n",
       "      <td>Antes de la charla</td>\n",
       "      <td>Antes de la charla</td>\n",
       "      <td>Antes de la charla</td>\n",
       "      <td>Antes de la charla</td>\n",
       "      <td>Antes de la charla</td>\n",
       "      <td>Antes de la charla</td>\n",
       "      <td>Antes de la charla</td>\n",
       "      <td>Antes de la charla</td>\n",
       "      <td>...</td>\n",
       "      <td>Poco</td>\n",
       "      <td>Alto</td>\n",
       "      <td>Medio</td>\n",
       "      <td>Sistemas Operativos II;Base de datos II;Arquit...</td>\n",
       "      <td>Si</td>\n",
       "      <td>Solo si es gratis</td>\n",
       "      <td>Si</td>\n",
       "      <td>Fundamentos Computación Cuántica;Aplicaciones ...</td>\n",
       "      <td>Si</td>\n",
       "      <td>5.0</td>\n",
       "    </tr>\n",
       "  </tbody>\n",
       "</table>\n",
       "<p>84 rows × 57 columns</p>\n",
       "</div>"
      ],
      "text/plain": [
       "variables           post_charla                edad                zona  \\\n",
       "0            Antes de la Charla               22-27         Zona Urbana   \n",
       "1            Antes de la Charla               28-32         Zona Urbana   \n",
       "2            Antes de la Charla               22-27         Zona Urbana   \n",
       "3            Antes de la Charla               22-27         Zona Urbana   \n",
       "4            Antes de la Charla               17-21         Zona Urbana   \n",
       "..                          ...                 ...                 ...   \n",
       "79         Después de la Charla  Antes de la charla  Antes de la charla   \n",
       "80         Después de la Charla  Antes de la charla  Antes de la charla   \n",
       "81         Después de la Charla  Antes de la charla  Antes de la charla   \n",
       "82         Después de la Charla  Antes de la charla  Antes de la charla   \n",
       "83         Después de la Charla  Antes de la charla  Antes de la charla   \n",
       "\n",
       "variables                 sex             trabaja                 carrera  \\\n",
       "0                   Masculino                  Si  Ingeniería en Sistemas   \n",
       "1                    Femenino                  Si  Ingeniería en Sistemas   \n",
       "2                    Femenino                  Si  Ingeniería en Sistemas   \n",
       "3                   Masculino                  No  Ingeniería en Sistemas   \n",
       "4                   Masculino                  Si  Ingeniería en Sistemas   \n",
       "..                        ...                 ...                     ...   \n",
       "79         Antes de la charla  Antes de la charla      Antes de la charla   \n",
       "80         Antes de la charla  Antes de la charla      Antes de la charla   \n",
       "81         Antes de la charla  Antes de la charla      Antes de la charla   \n",
       "82         Antes de la charla  Antes de la charla      Antes de la charla   \n",
       "83         Antes de la charla  Antes de la charla      Antes de la charla   \n",
       "\n",
       "variables       annio_carrera         autodidacta   temas_interes_cie  \\\n",
       "0               5to año o más                  Si                 5.0   \n",
       "1               5to año o más                  Si                 1.0   \n",
       "2               5to año o más                  Si                 2.0   \n",
       "3               5to año o más                  Si                 5.0   \n",
       "4                     4to año                  Si                 3.0   \n",
       "..                        ...                 ...                 ...   \n",
       "79         Antes de la charla  Antes de la charla  Antes de la charla   \n",
       "80         Antes de la charla  Antes de la charla  Antes de la charla   \n",
       "81         Antes de la charla  Antes de la charla  Antes de la charla   \n",
       "82         Antes de la charla  Antes de la charla  Antes de la charla   \n",
       "83         Antes de la charla  Antes de la charla  Antes de la charla   \n",
       "\n",
       "variables   temas_interes_tec  ... temas_disruptivo_bc temas_disruptivo_va  \\\n",
       "0                         5.0  ...   Despues de charla   Despues de charla   \n",
       "1                         5.0  ...   Despues de charla   Despues de charla   \n",
       "2                         3.0  ...   Despues de charla   Despues de charla   \n",
       "3                         5.0  ...   Despues de charla   Despues de charla   \n",
       "4                         3.0  ...   Despues de charla   Despues de charla   \n",
       "..                        ...  ...                 ...                 ...   \n",
       "79         Antes de la charla  ...               Medio               Medio   \n",
       "80         Antes de la charla  ...                Poco               Medio   \n",
       "81         Antes de la charla  ...                Poco               Medio   \n",
       "82         Antes de la charla  ...            Muy alto                Alto   \n",
       "83         Antes de la charla  ...                Poco                Alto   \n",
       "\n",
       "variables temas_disruptivo_nano  \\\n",
       "0             Despues de charla   \n",
       "1             Despues de charla   \n",
       "2             Despues de charla   \n",
       "3             Despues de charla   \n",
       "4             Despues de charla   \n",
       "..                          ...   \n",
       "79                         Poco   \n",
       "80                        Medio   \n",
       "81                        Medio   \n",
       "82                     Muy alto   \n",
       "83                        Medio   \n",
       "\n",
       "variables                            segmento_interes_charla  \\\n",
       "0                                          Despues de charla   \n",
       "1                                          Despues de charla   \n",
       "2                                          Despues de charla   \n",
       "3                                          Despues de charla   \n",
       "4                                          Despues de charla   \n",
       "..                                                       ...   \n",
       "79         Arquitectura de Computadores;Diseño Digital;Ba...   \n",
       "80         Arquitectura de Computadores;Diseño Digital;Co...   \n",
       "81         Arquitectura de Computadores;Diseño Digital;Co...   \n",
       "82         Compiladores;Arquitectura de Computadores;Sist...   \n",
       "83         Sistemas Operativos II;Base de datos II;Arquit...   \n",
       "\n",
       "variables     curso_cuantica charla_informativa cursos_recomendaciones  \\\n",
       "0          Despues de charla  Despues de charla      Despues de charla   \n",
       "1          Despues de charla  Despues de charla      Despues de charla   \n",
       "2          Despues de charla  Despues de charla      Despues de charla   \n",
       "3          Despues de charla  Despues de charla      Despues de charla   \n",
       "4          Despues de charla  Despues de charla      Despues de charla   \n",
       "..                       ...                ...                    ...   \n",
       "79                        Si                 No                     Si   \n",
       "80                        Si  Solo si es gratis                     Si   \n",
       "81                        Si  Solo si es gratis                     Si   \n",
       "82                        Si  Solo si es gratis                     Si   \n",
       "83                        Si  Solo si es gratis                     Si   \n",
       "\n",
       "variables                                        charla_util  \\\n",
       "0                                          Despues de charla   \n",
       "1                                          Despues de charla   \n",
       "2                                          Despues de charla   \n",
       "3                                          Despues de charla   \n",
       "4                                          Despues de charla   \n",
       "..                                                       ...   \n",
       "79                              Aplicaciones de la Cuántica;   \n",
       "80                              Aplicaciones de la Cuántica;   \n",
       "81         Fundamentos Computación Cuántica;Aplicaciones ...   \n",
       "82         Fundamentos Computación Cuántica;Aplicaciones ...   \n",
       "83         Fundamentos Computación Cuántica;Aplicaciones ...   \n",
       "\n",
       "variables idea_aplicaciones_charla calificacion_charla  \n",
       "0                Despues de charla   Despues de charla  \n",
       "1                Despues de charla   Despues de charla  \n",
       "2                Despues de charla   Despues de charla  \n",
       "3                Despues de charla   Despues de charla  \n",
       "4                Despues de charla   Despues de charla  \n",
       "..                             ...                 ...  \n",
       "79                              Si                 5.0  \n",
       "80                              Si                 4.0  \n",
       "81                              Si                 4.0  \n",
       "82                              Si                 5.0  \n",
       "83                              Si                 5.0  \n",
       "\n",
       "[84 rows x 57 columns]"
      ]
     },
     "execution_count": 48,
     "metadata": {},
     "output_type": "execute_result"
    }
   ],
   "source": [
    "encuesta1"
   ]
  },
  {
   "cell_type": "markdown",
   "id": "6d26330e-1279-4a4f-bc1b-5d52782e38ae",
   "metadata": {},
   "source": [
    "**VERIFICANDO COLUMNAS DUPLICADAS**"
   ]
  },
  {
   "cell_type": "code",
   "execution_count": 49,
   "id": "ccf85b58-f6ec-4d51-8381-e7877c340a1a",
   "metadata": {},
   "outputs": [
    {
     "name": "stdout",
     "output_type": "stream",
     "text": [
      "No hay columnas duplicadas en el dataset.\n"
     ]
    }
   ],
   "source": [
    "if len(encuesta1.columns) == len(encuesta1.columns.unique()):\n",
    "    print(\"No hay columnas duplicadas en el dataset.\")\n",
    "else:\n",
    "    dup_columns = encuesta1.columns[encuesta1.columns.duplicated()]\n",
    "    print(f\"Hay columnas duplicadas en el dataset: {dup_columns}\")"
   ]
  },
  {
   "cell_type": "markdown",
   "id": "73f4ab82-4248-422e-9bdf-f8772fee8f78",
   "metadata": {},
   "source": [
    "**ANALISIS DE DATOS NULOS**"
   ]
  },
  {
   "cell_type": "code",
   "execution_count": 53,
   "id": "61320d84-c725-43ea-bd10-7742bb074479",
   "metadata": {},
   "outputs": [],
   "source": [
    "datosNulos1 = pd.DataFrame()\n",
    "for c_ in encuesta1.columns:\n",
    "    r_ = pd.DataFrame({\n",
    "        \"columna\": [c_]\n",
    "        , \"frequencia\": np.sum( pd.isnull( encuesta1.loc[ : , c_ ] ) )\n",
    "        , \"porcentaje\":  np.sum( pd.isnull( encuesta1.loc[ : , c_] ) ) / encuesta1.shape[0]\n",
    "    })\n",
    "    datosNulos1 = pd.concat([ datosNulos1 , r_ ])"
   ]
  },
  {
   "cell_type": "code",
   "execution_count": 54,
   "id": "ba38e889-5166-4a45-9b4a-677c24aa6fe1",
   "metadata": {},
   "outputs": [
    {
     "data": {
      "text/html": [
       "<div>\n",
       "<style scoped>\n",
       "    .dataframe tbody tr th:only-of-type {\n",
       "        vertical-align: middle;\n",
       "    }\n",
       "\n",
       "    .dataframe tbody tr th {\n",
       "        vertical-align: top;\n",
       "    }\n",
       "\n",
       "    .dataframe thead th {\n",
       "        text-align: right;\n",
       "    }\n",
       "</style>\n",
       "<table border=\"1\" class=\"dataframe\">\n",
       "  <thead>\n",
       "    <tr style=\"text-align: right;\">\n",
       "      <th></th>\n",
       "      <th>columna</th>\n",
       "      <th>frequencia</th>\n",
       "      <th>porcentaje</th>\n",
       "    </tr>\n",
       "  </thead>\n",
       "  <tbody>\n",
       "  </tbody>\n",
       "</table>\n",
       "</div>"
      ],
      "text/plain": [
       "Empty DataFrame\n",
       "Columns: [columna, frequencia, porcentaje]\n",
       "Index: []"
      ]
     },
     "execution_count": 54,
     "metadata": {},
     "output_type": "execute_result"
    }
   ],
   "source": [
    "datosNulos1.loc[datosNulos1['porcentaje']>0, : ]"
   ]
  },
  {
   "cell_type": "code",
   "execution_count": 55,
   "id": "cca42ecf-1337-43ec-9f0e-6702139e4076",
   "metadata": {},
   "outputs": [],
   "source": [
    "columnas_evaluar_e1 =  datosNulos1.loc[ ( datosNulos1['frequencia'] > 0 ) & ( datosNulos1['frequencia'] < 10  ) , \"columna\" ]\n",
    "encuesta1_w_nulls = pd.DataFrame()\n",
    "for c_ in columnas_evaluar_e1:    \n",
    "    row = encuesta1.loc[ pd.isnull( encuesta1[c_] ) , : ]\n",
    "    encuesta1_w_nulls = pd.concat( [ encuesta1_w_nulls , row ] )\n",
    "\n",
    "encuesta1_w_nulls = encuesta1_w_nulls.drop_duplicates()\n",
    "encuesta1_w_nulls[\"has_null\"] = True"
   ]
  },
  {
   "cell_type": "markdown",
   "id": "499466ef-4a11-4597-bdb8-bcbabf13d362",
   "metadata": {},
   "source": [
    "**PARA EVALUAR LA CANTIDAD TOTAL DE REGISTROS DE VALORES NULOS**"
   ]
  },
  {
   "cell_type": "code",
   "execution_count": 56,
   "id": "312f6488-33de-47cc-9f84-327a28d01608",
   "metadata": {},
   "outputs": [
    {
     "data": {
      "text/plain": [
       "0.0"
      ]
     },
     "execution_count": 56,
     "metadata": {},
     "output_type": "execute_result"
    }
   ],
   "source": [
    "encuesta1_w_nulls.shape[0] / encuesta1.shape[0]"
   ]
  },
  {
   "cell_type": "code",
   "execution_count": 57,
   "id": "c057e8a3-a97e-4f87-8aee-017518ede707",
   "metadata": {},
   "outputs": [
    {
     "data": {
      "text/html": [
       "<div>\n",
       "<style scoped>\n",
       "    .dataframe tbody tr th:only-of-type {\n",
       "        vertical-align: middle;\n",
       "    }\n",
       "\n",
       "    .dataframe tbody tr th {\n",
       "        vertical-align: top;\n",
       "    }\n",
       "\n",
       "    .dataframe thead th {\n",
       "        text-align: right;\n",
       "    }\n",
       "</style>\n",
       "<table border=\"1\" class=\"dataframe\">\n",
       "  <thead>\n",
       "    <tr style=\"text-align: right;\">\n",
       "      <th></th>\n",
       "      <th>has_null</th>\n",
       "    </tr>\n",
       "  </thead>\n",
       "  <tbody>\n",
       "  </tbody>\n",
       "</table>\n",
       "</div>"
      ],
      "text/plain": [
       "Empty DataFrame\n",
       "Columns: [has_null]\n",
       "Index: []"
      ]
     },
     "execution_count": 57,
     "metadata": {},
     "output_type": "execute_result"
    }
   ],
   "source": [
    "encuesta1_w_nulls"
   ]
  },
  {
   "cell_type": "code",
   "execution_count": 58,
   "id": "1156a3e7-5f22-4a7d-ab2d-87350d822761",
   "metadata": {},
   "outputs": [
    {
     "data": {
      "text/html": [
       "<div>\n",
       "<style scoped>\n",
       "    .dataframe tbody tr th:only-of-type {\n",
       "        vertical-align: middle;\n",
       "    }\n",
       "\n",
       "    .dataframe tbody tr th {\n",
       "        vertical-align: top;\n",
       "    }\n",
       "\n",
       "    .dataframe thead th {\n",
       "        text-align: right;\n",
       "    }\n",
       "</style>\n",
       "<table border=\"1\" class=\"dataframe\">\n",
       "  <thead>\n",
       "    <tr style=\"text-align: right;\">\n",
       "      <th></th>\n",
       "      <th>post_charla</th>\n",
       "      <th>edad</th>\n",
       "      <th>zona</th>\n",
       "      <th>sex</th>\n",
       "      <th>trabaja</th>\n",
       "      <th>carrera</th>\n",
       "      <th>annio_carrera</th>\n",
       "      <th>autodidacta</th>\n",
       "      <th>temas_interes_cie</th>\n",
       "      <th>temas_interes_tec</th>\n",
       "      <th>...</th>\n",
       "      <th>temas_disruptivo_va</th>\n",
       "      <th>temas_disruptivo_nano</th>\n",
       "      <th>segmento_interes_charla</th>\n",
       "      <th>curso_cuantica</th>\n",
       "      <th>charla_informativa</th>\n",
       "      <th>cursos_recomendaciones</th>\n",
       "      <th>charla_util</th>\n",
       "      <th>idea_aplicaciones_charla</th>\n",
       "      <th>calificacion_charla</th>\n",
       "      <th>has_null</th>\n",
       "    </tr>\n",
       "  </thead>\n",
       "  <tbody>\n",
       "    <tr>\n",
       "      <th>0</th>\n",
       "      <td>Antes de la Charla</td>\n",
       "      <td>22-27</td>\n",
       "      <td>Zona Urbana</td>\n",
       "      <td>Masculino</td>\n",
       "      <td>Si</td>\n",
       "      <td>Ingeniería en Sistemas</td>\n",
       "      <td>5to año o más</td>\n",
       "      <td>Si</td>\n",
       "      <td>5.0</td>\n",
       "      <td>5.0</td>\n",
       "      <td>...</td>\n",
       "      <td>Despues de charla</td>\n",
       "      <td>Despues de charla</td>\n",
       "      <td>Despues de charla</td>\n",
       "      <td>Despues de charla</td>\n",
       "      <td>Despues de charla</td>\n",
       "      <td>Despues de charla</td>\n",
       "      <td>Despues de charla</td>\n",
       "      <td>Despues de charla</td>\n",
       "      <td>Despues de charla</td>\n",
       "      <td>NaN</td>\n",
       "    </tr>\n",
       "    <tr>\n",
       "      <th>1</th>\n",
       "      <td>Antes de la Charla</td>\n",
       "      <td>28-32</td>\n",
       "      <td>Zona Urbana</td>\n",
       "      <td>Femenino</td>\n",
       "      <td>Si</td>\n",
       "      <td>Ingeniería en Sistemas</td>\n",
       "      <td>5to año o más</td>\n",
       "      <td>Si</td>\n",
       "      <td>1.0</td>\n",
       "      <td>5.0</td>\n",
       "      <td>...</td>\n",
       "      <td>Despues de charla</td>\n",
       "      <td>Despues de charla</td>\n",
       "      <td>Despues de charla</td>\n",
       "      <td>Despues de charla</td>\n",
       "      <td>Despues de charla</td>\n",
       "      <td>Despues de charla</td>\n",
       "      <td>Despues de charla</td>\n",
       "      <td>Despues de charla</td>\n",
       "      <td>Despues de charla</td>\n",
       "      <td>NaN</td>\n",
       "    </tr>\n",
       "    <tr>\n",
       "      <th>2</th>\n",
       "      <td>Antes de la Charla</td>\n",
       "      <td>22-27</td>\n",
       "      <td>Zona Urbana</td>\n",
       "      <td>Femenino</td>\n",
       "      <td>Si</td>\n",
       "      <td>Ingeniería en Sistemas</td>\n",
       "      <td>5to año o más</td>\n",
       "      <td>Si</td>\n",
       "      <td>2.0</td>\n",
       "      <td>3.0</td>\n",
       "      <td>...</td>\n",
       "      <td>Despues de charla</td>\n",
       "      <td>Despues de charla</td>\n",
       "      <td>Despues de charla</td>\n",
       "      <td>Despues de charla</td>\n",
       "      <td>Despues de charla</td>\n",
       "      <td>Despues de charla</td>\n",
       "      <td>Despues de charla</td>\n",
       "      <td>Despues de charla</td>\n",
       "      <td>Despues de charla</td>\n",
       "      <td>NaN</td>\n",
       "    </tr>\n",
       "    <tr>\n",
       "      <th>3</th>\n",
       "      <td>Antes de la Charla</td>\n",
       "      <td>22-27</td>\n",
       "      <td>Zona Urbana</td>\n",
       "      <td>Masculino</td>\n",
       "      <td>No</td>\n",
       "      <td>Ingeniería en Sistemas</td>\n",
       "      <td>5to año o más</td>\n",
       "      <td>Si</td>\n",
       "      <td>5.0</td>\n",
       "      <td>5.0</td>\n",
       "      <td>...</td>\n",
       "      <td>Despues de charla</td>\n",
       "      <td>Despues de charla</td>\n",
       "      <td>Despues de charla</td>\n",
       "      <td>Despues de charla</td>\n",
       "      <td>Despues de charla</td>\n",
       "      <td>Despues de charla</td>\n",
       "      <td>Despues de charla</td>\n",
       "      <td>Despues de charla</td>\n",
       "      <td>Despues de charla</td>\n",
       "      <td>NaN</td>\n",
       "    </tr>\n",
       "    <tr>\n",
       "      <th>4</th>\n",
       "      <td>Antes de la Charla</td>\n",
       "      <td>17-21</td>\n",
       "      <td>Zona Urbana</td>\n",
       "      <td>Masculino</td>\n",
       "      <td>Si</td>\n",
       "      <td>Ingeniería en Sistemas</td>\n",
       "      <td>4to año</td>\n",
       "      <td>Si</td>\n",
       "      <td>3.0</td>\n",
       "      <td>3.0</td>\n",
       "      <td>...</td>\n",
       "      <td>Despues de charla</td>\n",
       "      <td>Despues de charla</td>\n",
       "      <td>Despues de charla</td>\n",
       "      <td>Despues de charla</td>\n",
       "      <td>Despues de charla</td>\n",
       "      <td>Despues de charla</td>\n",
       "      <td>Despues de charla</td>\n",
       "      <td>Despues de charla</td>\n",
       "      <td>Despues de charla</td>\n",
       "      <td>NaN</td>\n",
       "    </tr>\n",
       "    <tr>\n",
       "      <th>...</th>\n",
       "      <td>...</td>\n",
       "      <td>...</td>\n",
       "      <td>...</td>\n",
       "      <td>...</td>\n",
       "      <td>...</td>\n",
       "      <td>...</td>\n",
       "      <td>...</td>\n",
       "      <td>...</td>\n",
       "      <td>...</td>\n",
       "      <td>...</td>\n",
       "      <td>...</td>\n",
       "      <td>...</td>\n",
       "      <td>...</td>\n",
       "      <td>...</td>\n",
       "      <td>...</td>\n",
       "      <td>...</td>\n",
       "      <td>...</td>\n",
       "      <td>...</td>\n",
       "      <td>...</td>\n",
       "      <td>...</td>\n",
       "      <td>...</td>\n",
       "    </tr>\n",
       "    <tr>\n",
       "      <th>79</th>\n",
       "      <td>Después de la Charla</td>\n",
       "      <td>Antes de la charla</td>\n",
       "      <td>Antes de la charla</td>\n",
       "      <td>Antes de la charla</td>\n",
       "      <td>Antes de la charla</td>\n",
       "      <td>Antes de la charla</td>\n",
       "      <td>Antes de la charla</td>\n",
       "      <td>Antes de la charla</td>\n",
       "      <td>Antes de la charla</td>\n",
       "      <td>Antes de la charla</td>\n",
       "      <td>...</td>\n",
       "      <td>Medio</td>\n",
       "      <td>Poco</td>\n",
       "      <td>Arquitectura de Computadores;Diseño Digital;Ba...</td>\n",
       "      <td>Si</td>\n",
       "      <td>No</td>\n",
       "      <td>Si</td>\n",
       "      <td>Aplicaciones de la Cuántica;</td>\n",
       "      <td>Si</td>\n",
       "      <td>5.0</td>\n",
       "      <td>NaN</td>\n",
       "    </tr>\n",
       "    <tr>\n",
       "      <th>80</th>\n",
       "      <td>Después de la Charla</td>\n",
       "      <td>Antes de la charla</td>\n",
       "      <td>Antes de la charla</td>\n",
       "      <td>Antes de la charla</td>\n",
       "      <td>Antes de la charla</td>\n",
       "      <td>Antes de la charla</td>\n",
       "      <td>Antes de la charla</td>\n",
       "      <td>Antes de la charla</td>\n",
       "      <td>Antes de la charla</td>\n",
       "      <td>Antes de la charla</td>\n",
       "      <td>...</td>\n",
       "      <td>Medio</td>\n",
       "      <td>Medio</td>\n",
       "      <td>Arquitectura de Computadores;Diseño Digital;Co...</td>\n",
       "      <td>Si</td>\n",
       "      <td>Solo si es gratis</td>\n",
       "      <td>Si</td>\n",
       "      <td>Aplicaciones de la Cuántica;</td>\n",
       "      <td>Si</td>\n",
       "      <td>4.0</td>\n",
       "      <td>NaN</td>\n",
       "    </tr>\n",
       "    <tr>\n",
       "      <th>81</th>\n",
       "      <td>Después de la Charla</td>\n",
       "      <td>Antes de la charla</td>\n",
       "      <td>Antes de la charla</td>\n",
       "      <td>Antes de la charla</td>\n",
       "      <td>Antes de la charla</td>\n",
       "      <td>Antes de la charla</td>\n",
       "      <td>Antes de la charla</td>\n",
       "      <td>Antes de la charla</td>\n",
       "      <td>Antes de la charla</td>\n",
       "      <td>Antes de la charla</td>\n",
       "      <td>...</td>\n",
       "      <td>Medio</td>\n",
       "      <td>Medio</td>\n",
       "      <td>Arquitectura de Computadores;Diseño Digital;Co...</td>\n",
       "      <td>Si</td>\n",
       "      <td>Solo si es gratis</td>\n",
       "      <td>Si</td>\n",
       "      <td>Fundamentos Computación Cuántica;Aplicaciones ...</td>\n",
       "      <td>Si</td>\n",
       "      <td>4.0</td>\n",
       "      <td>NaN</td>\n",
       "    </tr>\n",
       "    <tr>\n",
       "      <th>82</th>\n",
       "      <td>Después de la Charla</td>\n",
       "      <td>Antes de la charla</td>\n",
       "      <td>Antes de la charla</td>\n",
       "      <td>Antes de la charla</td>\n",
       "      <td>Antes de la charla</td>\n",
       "      <td>Antes de la charla</td>\n",
       "      <td>Antes de la charla</td>\n",
       "      <td>Antes de la charla</td>\n",
       "      <td>Antes de la charla</td>\n",
       "      <td>Antes de la charla</td>\n",
       "      <td>...</td>\n",
       "      <td>Alto</td>\n",
       "      <td>Muy alto</td>\n",
       "      <td>Compiladores;Arquitectura de Computadores;Sist...</td>\n",
       "      <td>Si</td>\n",
       "      <td>Solo si es gratis</td>\n",
       "      <td>Si</td>\n",
       "      <td>Fundamentos Computación Cuántica;Aplicaciones ...</td>\n",
       "      <td>Si</td>\n",
       "      <td>5.0</td>\n",
       "      <td>NaN</td>\n",
       "    </tr>\n",
       "    <tr>\n",
       "      <th>83</th>\n",
       "      <td>Después de la Charla</td>\n",
       "      <td>Antes de la charla</td>\n",
       "      <td>Antes de la charla</td>\n",
       "      <td>Antes de la charla</td>\n",
       "      <td>Antes de la charla</td>\n",
       "      <td>Antes de la charla</td>\n",
       "      <td>Antes de la charla</td>\n",
       "      <td>Antes de la charla</td>\n",
       "      <td>Antes de la charla</td>\n",
       "      <td>Antes de la charla</td>\n",
       "      <td>...</td>\n",
       "      <td>Alto</td>\n",
       "      <td>Medio</td>\n",
       "      <td>Sistemas Operativos II;Base de datos II;Arquit...</td>\n",
       "      <td>Si</td>\n",
       "      <td>Solo si es gratis</td>\n",
       "      <td>Si</td>\n",
       "      <td>Fundamentos Computación Cuántica;Aplicaciones ...</td>\n",
       "      <td>Si</td>\n",
       "      <td>5.0</td>\n",
       "      <td>NaN</td>\n",
       "    </tr>\n",
       "  </tbody>\n",
       "</table>\n",
       "<p>84 rows × 58 columns</p>\n",
       "</div>"
      ],
      "text/plain": [
       "             post_charla                edad                zona  \\\n",
       "0     Antes de la Charla               22-27         Zona Urbana   \n",
       "1     Antes de la Charla               28-32         Zona Urbana   \n",
       "2     Antes de la Charla               22-27         Zona Urbana   \n",
       "3     Antes de la Charla               22-27         Zona Urbana   \n",
       "4     Antes de la Charla               17-21         Zona Urbana   \n",
       "..                   ...                 ...                 ...   \n",
       "79  Después de la Charla  Antes de la charla  Antes de la charla   \n",
       "80  Después de la Charla  Antes de la charla  Antes de la charla   \n",
       "81  Después de la Charla  Antes de la charla  Antes de la charla   \n",
       "82  Después de la Charla  Antes de la charla  Antes de la charla   \n",
       "83  Después de la Charla  Antes de la charla  Antes de la charla   \n",
       "\n",
       "                   sex             trabaja                 carrera  \\\n",
       "0            Masculino                  Si  Ingeniería en Sistemas   \n",
       "1             Femenino                  Si  Ingeniería en Sistemas   \n",
       "2             Femenino                  Si  Ingeniería en Sistemas   \n",
       "3            Masculino                  No  Ingeniería en Sistemas   \n",
       "4            Masculino                  Si  Ingeniería en Sistemas   \n",
       "..                 ...                 ...                     ...   \n",
       "79  Antes de la charla  Antes de la charla      Antes de la charla   \n",
       "80  Antes de la charla  Antes de la charla      Antes de la charla   \n",
       "81  Antes de la charla  Antes de la charla      Antes de la charla   \n",
       "82  Antes de la charla  Antes de la charla      Antes de la charla   \n",
       "83  Antes de la charla  Antes de la charla      Antes de la charla   \n",
       "\n",
       "         annio_carrera         autodidacta   temas_interes_cie  \\\n",
       "0        5to año o más                  Si                 5.0   \n",
       "1        5to año o más                  Si                 1.0   \n",
       "2        5to año o más                  Si                 2.0   \n",
       "3        5to año o más                  Si                 5.0   \n",
       "4              4to año                  Si                 3.0   \n",
       "..                 ...                 ...                 ...   \n",
       "79  Antes de la charla  Antes de la charla  Antes de la charla   \n",
       "80  Antes de la charla  Antes de la charla  Antes de la charla   \n",
       "81  Antes de la charla  Antes de la charla  Antes de la charla   \n",
       "82  Antes de la charla  Antes de la charla  Antes de la charla   \n",
       "83  Antes de la charla  Antes de la charla  Antes de la charla   \n",
       "\n",
       "     temas_interes_tec  ... temas_disruptivo_va temas_disruptivo_nano  \\\n",
       "0                  5.0  ...   Despues de charla     Despues de charla   \n",
       "1                  5.0  ...   Despues de charla     Despues de charla   \n",
       "2                  3.0  ...   Despues de charla     Despues de charla   \n",
       "3                  5.0  ...   Despues de charla     Despues de charla   \n",
       "4                  3.0  ...   Despues de charla     Despues de charla   \n",
       "..                 ...  ...                 ...                   ...   \n",
       "79  Antes de la charla  ...               Medio                  Poco   \n",
       "80  Antes de la charla  ...               Medio                 Medio   \n",
       "81  Antes de la charla  ...               Medio                 Medio   \n",
       "82  Antes de la charla  ...                Alto              Muy alto   \n",
       "83  Antes de la charla  ...                Alto                 Medio   \n",
       "\n",
       "                              segmento_interes_charla     curso_cuantica  \\\n",
       "0                                   Despues de charla  Despues de charla   \n",
       "1                                   Despues de charla  Despues de charla   \n",
       "2                                   Despues de charla  Despues de charla   \n",
       "3                                   Despues de charla  Despues de charla   \n",
       "4                                   Despues de charla  Despues de charla   \n",
       "..                                                ...                ...   \n",
       "79  Arquitectura de Computadores;Diseño Digital;Ba...                 Si   \n",
       "80  Arquitectura de Computadores;Diseño Digital;Co...                 Si   \n",
       "81  Arquitectura de Computadores;Diseño Digital;Co...                 Si   \n",
       "82  Compiladores;Arquitectura de Computadores;Sist...                 Si   \n",
       "83  Sistemas Operativos II;Base de datos II;Arquit...                 Si   \n",
       "\n",
       "   charla_informativa cursos_recomendaciones  \\\n",
       "0   Despues de charla      Despues de charla   \n",
       "1   Despues de charla      Despues de charla   \n",
       "2   Despues de charla      Despues de charla   \n",
       "3   Despues de charla      Despues de charla   \n",
       "4   Despues de charla      Despues de charla   \n",
       "..                ...                    ...   \n",
       "79                 No                     Si   \n",
       "80  Solo si es gratis                     Si   \n",
       "81  Solo si es gratis                     Si   \n",
       "82  Solo si es gratis                     Si   \n",
       "83  Solo si es gratis                     Si   \n",
       "\n",
       "                                          charla_util  \\\n",
       "0                                   Despues de charla   \n",
       "1                                   Despues de charla   \n",
       "2                                   Despues de charla   \n",
       "3                                   Despues de charla   \n",
       "4                                   Despues de charla   \n",
       "..                                                ...   \n",
       "79                       Aplicaciones de la Cuántica;   \n",
       "80                       Aplicaciones de la Cuántica;   \n",
       "81  Fundamentos Computación Cuántica;Aplicaciones ...   \n",
       "82  Fundamentos Computación Cuántica;Aplicaciones ...   \n",
       "83  Fundamentos Computación Cuántica;Aplicaciones ...   \n",
       "\n",
       "   idea_aplicaciones_charla calificacion_charla has_null  \n",
       "0         Despues de charla   Despues de charla      NaN  \n",
       "1         Despues de charla   Despues de charla      NaN  \n",
       "2         Despues de charla   Despues de charla      NaN  \n",
       "3         Despues de charla   Despues de charla      NaN  \n",
       "4         Despues de charla   Despues de charla      NaN  \n",
       "..                      ...                 ...      ...  \n",
       "79                       Si                 5.0      NaN  \n",
       "80                       Si                 4.0      NaN  \n",
       "81                       Si                 4.0      NaN  \n",
       "82                       Si                 5.0      NaN  \n",
       "83                       Si                 5.0      NaN  \n",
       "\n",
       "[84 rows x 58 columns]"
      ]
     },
     "execution_count": 58,
     "metadata": {},
     "output_type": "execute_result"
    }
   ],
   "source": [
    "encuesta1_wo_nulls = encuesta1.merge( encuesta1_w_nulls.loc[ : , [\"has_null\"] ] , left_index=True , right_index=True , how=\"left\" )\n",
    "encuesta1_wo_nulls.loc[ pd.isnull( encuesta1_wo_nulls[\"has_null\"] ) , : ]"
   ]
  },
  {
   "cell_type": "markdown",
   "id": "cc32d536-afee-4ada-b9bb-e9f12771ebba",
   "metadata": {},
   "source": [
    "**Tratamiento de variables Nulas** \n",
    "\n",
    "columnas con porcentaje de representatibilidad bajo o menor a 5"
   ]
  },
  {
   "cell_type": "code",
   "execution_count": 59,
   "id": "e0db74ba-e615-4faf-aac7-2b53cfdb9f27",
   "metadata": {},
   "outputs": [],
   "source": [
    "c_porcentaje_bajo = datosNulos1.loc[ \n",
    "    (datosNulos1['porcentaje'] >= 0.001) \n",
    "    & (datosNulos1['porcentaje'] < 0.05 )\n",
    "    , \"columna\"  \n",
    "]"
   ]
  },
  {
   "cell_type": "code",
   "execution_count": 60,
   "id": "e6baf305-7273-4378-a5ef-5891996e5e14",
   "metadata": {},
   "outputs": [
    {
     "data": {
      "text/plain": [
       "Series([], Name: columna, dtype: object)"
      ]
     },
     "execution_count": 60,
     "metadata": {},
     "output_type": "execute_result"
    }
   ],
   "source": [
    "c_porcentaje_bajo"
   ]
  },
  {
   "cell_type": "markdown",
   "id": "8b813953-cd31-4a20-ab3e-78e7ae646600",
   "metadata": {},
   "source": [
    "**CAMBIO DE VARIABLES NaN A VARIBALES NULAS**\n",
    "\n",
    "Reemplazando valores nulos por respuestas \"antes de la charla\", \"despues de la charla\" y \"ninguno\""
   ]
  },
  {
   "cell_type": "code",
   "execution_count": 61,
   "id": "7cc8fff2-c45c-4675-823e-d5931a7fca5b",
   "metadata": {},
   "outputs": [],
   "source": [
    "encuesta1[[\"conexion_tematica\", \"interes_tema_disruptivo\", \"participar_investigacion_disruptiva\", \"temas_disruptivo_bd\",\n",
    "\"temas_disruptivo_ia\", \"temas_disruptivo_cib\",\"temas_disruptivo_bc\", \"temas_disruptivo_va\", \"temas_disruptivo_nano\",\n",
    "\"segmento_interes_charla\", \"curso_cuantica\", \"charla_informativa\", \"cursos_recomendaciones\",\"charla_util\",\n",
    "\"idea_aplicaciones_charla\", \"calificacion_charla\"]] = encuesta1[[\"conexion_tematica\", \"interes_tema_disruptivo\", \"participar_investigacion_disruptiva\", \"temas_disruptivo_bd\",\n",
    "\"temas_disruptivo_ia\", \"temas_disruptivo_cib\",\"temas_disruptivo_bc\", \"temas_disruptivo_va\", \"temas_disruptivo_nano\",\n",
    "\"segmento_interes_charla\", \"curso_cuantica\", \"charla_informativa\", \"cursos_recomendaciones\",\"charla_util\",\n",
    "\"idea_aplicaciones_charla\", \"calificacion_charla\"]].fillna(value=\"Despues de charla\")"
   ]
  },
  {
   "cell_type": "code",
   "execution_count": 62,
   "id": "7c9b383a-82c0-4f7d-a71e-9702fffeea0c",
   "metadata": {},
   "outputs": [],
   "source": [
    "encuesta1[[\"edad\",\"zona\",\"sex\",\"trabaja\",\"carrera\",\"annio_carrera\",\"autodidacta\",\"temas_interes_cie\",\"temas_interes_tec\",\n",
    "           \"temas_interes_mate\",\"temas_interes_lit\",\"tiempo_estudio\",\"internet\",\"gama_pc\",\"habilidad_progra\",\"lengua_progra\",\n",
    "           \"conocimento_cat_fc\",\"conocimento_cat_arq\",\"conocimento_cat_pro\",\"conocimento_cat_di\",\"conocimento_cat_mat\",\n",
    "           \"avance_cientifico\",\"info_disponible_cientifico\",\"evento_divulg\",\"ambito_charla\",\"nivel_divulg\",\"interes_divulg\",\n",
    "           \"presupuesto_divulg\",\"contenido_cientifico\",\"contenido_profesional\",\"responsabilidad_divulg\",\"escu_cuantica\",\n",
    "           \"conocimiento_cuantica\",\"info_cuantica\",\"inversion_cuantica\",\"cambio_mundo_cuantica\",\"impacto_industria_cuantica\",\n",
    "           \"docentes_incentivo\",\"unah_incentivo\"]] = encuesta1[[\"edad\",\"zona\",\"sex\",\"trabaja\",\"carrera\",\"annio_carrera\",\"autodidacta\",\"temas_interes_cie\",\"temas_interes_tec\",\n",
    "           \"temas_interes_mate\",\"temas_interes_lit\",\"tiempo_estudio\",\"internet\",\"gama_pc\",\"habilidad_progra\",\"lengua_progra\",\n",
    "           \"conocimento_cat_fc\",\"conocimento_cat_arq\",\"conocimento_cat_pro\",\"conocimento_cat_di\",\"conocimento_cat_mat\",\n",
    "           \"avance_cientifico\",\"info_disponible_cientifico\",\"evento_divulg\",\"ambito_charla\",\"nivel_divulg\",\"interes_divulg\",\n",
    "           \"presupuesto_divulg\",\"contenido_cientifico\",\"contenido_profesional\",\"responsabilidad_divulg\",\"escu_cuantica\",\n",
    "           \"conocimiento_cuantica\",\"info_cuantica\",\"inversion_cuantica\",\"cambio_mundo_cuantica\",\"impacto_industria_cuantica\",\n",
    "           \"docentes_incentivo\",\"unah_incentivo\"]].fillna(value=\"Antes de la charla\")"
   ]
  },
  {
   "cell_type": "code",
   "execution_count": 63,
   "id": "a59668d5-4d87-4659-a7b7-c3f62056d931",
   "metadata": {},
   "outputs": [],
   "source": [
    "encuesta1[[\"nivel_cuantica\"]] = encuesta1[[\"nivel_cuantica\"]].fillna(value=\"Ninguno\")"
   ]
  },
  {
   "cell_type": "code",
   "execution_count": 64,
   "id": "d6210361-9823-4dda-9510-58299fb01b52",
   "metadata": {},
   "outputs": [
    {
     "data": {
      "text/html": [
       "<div>\n",
       "<style scoped>\n",
       "    .dataframe tbody tr th:only-of-type {\n",
       "        vertical-align: middle;\n",
       "    }\n",
       "\n",
       "    .dataframe tbody tr th {\n",
       "        vertical-align: top;\n",
       "    }\n",
       "\n",
       "    .dataframe thead th {\n",
       "        text-align: right;\n",
       "    }\n",
       "</style>\n",
       "<table border=\"1\" class=\"dataframe\">\n",
       "  <thead>\n",
       "    <tr style=\"text-align: right;\">\n",
       "      <th></th>\n",
       "      <th>post_charla</th>\n",
       "      <th>edad</th>\n",
       "      <th>zona</th>\n",
       "      <th>sex</th>\n",
       "      <th>trabaja</th>\n",
       "      <th>carrera</th>\n",
       "      <th>annio_carrera</th>\n",
       "      <th>autodidacta</th>\n",
       "      <th>temas_interes_cie</th>\n",
       "      <th>temas_interes_tec</th>\n",
       "      <th>...</th>\n",
       "      <th>temas_disruptivo_va</th>\n",
       "      <th>temas_disruptivo_nano</th>\n",
       "      <th>segmento_interes_charla</th>\n",
       "      <th>curso_cuantica</th>\n",
       "      <th>charla_informativa</th>\n",
       "      <th>cursos_recomendaciones</th>\n",
       "      <th>charla_util</th>\n",
       "      <th>idea_aplicaciones_charla</th>\n",
       "      <th>calificacion_charla</th>\n",
       "      <th>has_null</th>\n",
       "    </tr>\n",
       "  </thead>\n",
       "  <tbody>\n",
       "    <tr>\n",
       "      <th>0</th>\n",
       "      <td>Antes de la Charla</td>\n",
       "      <td>22-27</td>\n",
       "      <td>Zona Urbana</td>\n",
       "      <td>Masculino</td>\n",
       "      <td>Si</td>\n",
       "      <td>Ingeniería en Sistemas</td>\n",
       "      <td>5to año o más</td>\n",
       "      <td>Si</td>\n",
       "      <td>5.0</td>\n",
       "      <td>5.0</td>\n",
       "      <td>...</td>\n",
       "      <td>Despues de charla</td>\n",
       "      <td>Despues de charla</td>\n",
       "      <td>Despues de charla</td>\n",
       "      <td>Despues de charla</td>\n",
       "      <td>Despues de charla</td>\n",
       "      <td>Despues de charla</td>\n",
       "      <td>Despues de charla</td>\n",
       "      <td>Despues de charla</td>\n",
       "      <td>Despues de charla</td>\n",
       "      <td>NaN</td>\n",
       "    </tr>\n",
       "    <tr>\n",
       "      <th>1</th>\n",
       "      <td>Antes de la Charla</td>\n",
       "      <td>28-32</td>\n",
       "      <td>Zona Urbana</td>\n",
       "      <td>Femenino</td>\n",
       "      <td>Si</td>\n",
       "      <td>Ingeniería en Sistemas</td>\n",
       "      <td>5to año o más</td>\n",
       "      <td>Si</td>\n",
       "      <td>1.0</td>\n",
       "      <td>5.0</td>\n",
       "      <td>...</td>\n",
       "      <td>Despues de charla</td>\n",
       "      <td>Despues de charla</td>\n",
       "      <td>Despues de charla</td>\n",
       "      <td>Despues de charla</td>\n",
       "      <td>Despues de charla</td>\n",
       "      <td>Despues de charla</td>\n",
       "      <td>Despues de charla</td>\n",
       "      <td>Despues de charla</td>\n",
       "      <td>Despues de charla</td>\n",
       "      <td>NaN</td>\n",
       "    </tr>\n",
       "    <tr>\n",
       "      <th>2</th>\n",
       "      <td>Antes de la Charla</td>\n",
       "      <td>22-27</td>\n",
       "      <td>Zona Urbana</td>\n",
       "      <td>Femenino</td>\n",
       "      <td>Si</td>\n",
       "      <td>Ingeniería en Sistemas</td>\n",
       "      <td>5to año o más</td>\n",
       "      <td>Si</td>\n",
       "      <td>2.0</td>\n",
       "      <td>3.0</td>\n",
       "      <td>...</td>\n",
       "      <td>Despues de charla</td>\n",
       "      <td>Despues de charla</td>\n",
       "      <td>Despues de charla</td>\n",
       "      <td>Despues de charla</td>\n",
       "      <td>Despues de charla</td>\n",
       "      <td>Despues de charla</td>\n",
       "      <td>Despues de charla</td>\n",
       "      <td>Despues de charla</td>\n",
       "      <td>Despues de charla</td>\n",
       "      <td>NaN</td>\n",
       "    </tr>\n",
       "    <tr>\n",
       "      <th>3</th>\n",
       "      <td>Antes de la Charla</td>\n",
       "      <td>22-27</td>\n",
       "      <td>Zona Urbana</td>\n",
       "      <td>Masculino</td>\n",
       "      <td>No</td>\n",
       "      <td>Ingeniería en Sistemas</td>\n",
       "      <td>5to año o más</td>\n",
       "      <td>Si</td>\n",
       "      <td>5.0</td>\n",
       "      <td>5.0</td>\n",
       "      <td>...</td>\n",
       "      <td>Despues de charla</td>\n",
       "      <td>Despues de charla</td>\n",
       "      <td>Despues de charla</td>\n",
       "      <td>Despues de charla</td>\n",
       "      <td>Despues de charla</td>\n",
       "      <td>Despues de charla</td>\n",
       "      <td>Despues de charla</td>\n",
       "      <td>Despues de charla</td>\n",
       "      <td>Despues de charla</td>\n",
       "      <td>NaN</td>\n",
       "    </tr>\n",
       "    <tr>\n",
       "      <th>4</th>\n",
       "      <td>Antes de la Charla</td>\n",
       "      <td>17-21</td>\n",
       "      <td>Zona Urbana</td>\n",
       "      <td>Masculino</td>\n",
       "      <td>Si</td>\n",
       "      <td>Ingeniería en Sistemas</td>\n",
       "      <td>4to año</td>\n",
       "      <td>Si</td>\n",
       "      <td>3.0</td>\n",
       "      <td>3.0</td>\n",
       "      <td>...</td>\n",
       "      <td>Despues de charla</td>\n",
       "      <td>Despues de charla</td>\n",
       "      <td>Despues de charla</td>\n",
       "      <td>Despues de charla</td>\n",
       "      <td>Despues de charla</td>\n",
       "      <td>Despues de charla</td>\n",
       "      <td>Despues de charla</td>\n",
       "      <td>Despues de charla</td>\n",
       "      <td>Despues de charla</td>\n",
       "      <td>NaN</td>\n",
       "    </tr>\n",
       "    <tr>\n",
       "      <th>...</th>\n",
       "      <td>...</td>\n",
       "      <td>...</td>\n",
       "      <td>...</td>\n",
       "      <td>...</td>\n",
       "      <td>...</td>\n",
       "      <td>...</td>\n",
       "      <td>...</td>\n",
       "      <td>...</td>\n",
       "      <td>...</td>\n",
       "      <td>...</td>\n",
       "      <td>...</td>\n",
       "      <td>...</td>\n",
       "      <td>...</td>\n",
       "      <td>...</td>\n",
       "      <td>...</td>\n",
       "      <td>...</td>\n",
       "      <td>...</td>\n",
       "      <td>...</td>\n",
       "      <td>...</td>\n",
       "      <td>...</td>\n",
       "      <td>...</td>\n",
       "    </tr>\n",
       "    <tr>\n",
       "      <th>79</th>\n",
       "      <td>Después de la Charla</td>\n",
       "      <td>Antes de la charla</td>\n",
       "      <td>Antes de la charla</td>\n",
       "      <td>Antes de la charla</td>\n",
       "      <td>Antes de la charla</td>\n",
       "      <td>Antes de la charla</td>\n",
       "      <td>Antes de la charla</td>\n",
       "      <td>Antes de la charla</td>\n",
       "      <td>Antes de la charla</td>\n",
       "      <td>Antes de la charla</td>\n",
       "      <td>...</td>\n",
       "      <td>Medio</td>\n",
       "      <td>Poco</td>\n",
       "      <td>Arquitectura de Computadores;Diseño Digital;Ba...</td>\n",
       "      <td>Si</td>\n",
       "      <td>No</td>\n",
       "      <td>Si</td>\n",
       "      <td>Aplicaciones de la Cuántica;</td>\n",
       "      <td>Si</td>\n",
       "      <td>5.0</td>\n",
       "      <td>NaN</td>\n",
       "    </tr>\n",
       "    <tr>\n",
       "      <th>80</th>\n",
       "      <td>Después de la Charla</td>\n",
       "      <td>Antes de la charla</td>\n",
       "      <td>Antes de la charla</td>\n",
       "      <td>Antes de la charla</td>\n",
       "      <td>Antes de la charla</td>\n",
       "      <td>Antes de la charla</td>\n",
       "      <td>Antes de la charla</td>\n",
       "      <td>Antes de la charla</td>\n",
       "      <td>Antes de la charla</td>\n",
       "      <td>Antes de la charla</td>\n",
       "      <td>...</td>\n",
       "      <td>Medio</td>\n",
       "      <td>Medio</td>\n",
       "      <td>Arquitectura de Computadores;Diseño Digital;Co...</td>\n",
       "      <td>Si</td>\n",
       "      <td>Solo si es gratis</td>\n",
       "      <td>Si</td>\n",
       "      <td>Aplicaciones de la Cuántica;</td>\n",
       "      <td>Si</td>\n",
       "      <td>4.0</td>\n",
       "      <td>NaN</td>\n",
       "    </tr>\n",
       "    <tr>\n",
       "      <th>81</th>\n",
       "      <td>Después de la Charla</td>\n",
       "      <td>Antes de la charla</td>\n",
       "      <td>Antes de la charla</td>\n",
       "      <td>Antes de la charla</td>\n",
       "      <td>Antes de la charla</td>\n",
       "      <td>Antes de la charla</td>\n",
       "      <td>Antes de la charla</td>\n",
       "      <td>Antes de la charla</td>\n",
       "      <td>Antes de la charla</td>\n",
       "      <td>Antes de la charla</td>\n",
       "      <td>...</td>\n",
       "      <td>Medio</td>\n",
       "      <td>Medio</td>\n",
       "      <td>Arquitectura de Computadores;Diseño Digital;Co...</td>\n",
       "      <td>Si</td>\n",
       "      <td>Solo si es gratis</td>\n",
       "      <td>Si</td>\n",
       "      <td>Fundamentos Computación Cuántica;Aplicaciones ...</td>\n",
       "      <td>Si</td>\n",
       "      <td>4.0</td>\n",
       "      <td>NaN</td>\n",
       "    </tr>\n",
       "    <tr>\n",
       "      <th>82</th>\n",
       "      <td>Después de la Charla</td>\n",
       "      <td>Antes de la charla</td>\n",
       "      <td>Antes de la charla</td>\n",
       "      <td>Antes de la charla</td>\n",
       "      <td>Antes de la charla</td>\n",
       "      <td>Antes de la charla</td>\n",
       "      <td>Antes de la charla</td>\n",
       "      <td>Antes de la charla</td>\n",
       "      <td>Antes de la charla</td>\n",
       "      <td>Antes de la charla</td>\n",
       "      <td>...</td>\n",
       "      <td>Alto</td>\n",
       "      <td>Muy alto</td>\n",
       "      <td>Compiladores;Arquitectura de Computadores;Sist...</td>\n",
       "      <td>Si</td>\n",
       "      <td>Solo si es gratis</td>\n",
       "      <td>Si</td>\n",
       "      <td>Fundamentos Computación Cuántica;Aplicaciones ...</td>\n",
       "      <td>Si</td>\n",
       "      <td>5.0</td>\n",
       "      <td>NaN</td>\n",
       "    </tr>\n",
       "    <tr>\n",
       "      <th>83</th>\n",
       "      <td>Después de la Charla</td>\n",
       "      <td>Antes de la charla</td>\n",
       "      <td>Antes de la charla</td>\n",
       "      <td>Antes de la charla</td>\n",
       "      <td>Antes de la charla</td>\n",
       "      <td>Antes de la charla</td>\n",
       "      <td>Antes de la charla</td>\n",
       "      <td>Antes de la charla</td>\n",
       "      <td>Antes de la charla</td>\n",
       "      <td>Antes de la charla</td>\n",
       "      <td>...</td>\n",
       "      <td>Alto</td>\n",
       "      <td>Medio</td>\n",
       "      <td>Sistemas Operativos II;Base de datos II;Arquit...</td>\n",
       "      <td>Si</td>\n",
       "      <td>Solo si es gratis</td>\n",
       "      <td>Si</td>\n",
       "      <td>Fundamentos Computación Cuántica;Aplicaciones ...</td>\n",
       "      <td>Si</td>\n",
       "      <td>5.0</td>\n",
       "      <td>NaN</td>\n",
       "    </tr>\n",
       "  </tbody>\n",
       "</table>\n",
       "<p>84 rows × 58 columns</p>\n",
       "</div>"
      ],
      "text/plain": [
       "             post_charla                edad                zona  \\\n",
       "0     Antes de la Charla               22-27         Zona Urbana   \n",
       "1     Antes de la Charla               28-32         Zona Urbana   \n",
       "2     Antes de la Charla               22-27         Zona Urbana   \n",
       "3     Antes de la Charla               22-27         Zona Urbana   \n",
       "4     Antes de la Charla               17-21         Zona Urbana   \n",
       "..                   ...                 ...                 ...   \n",
       "79  Después de la Charla  Antes de la charla  Antes de la charla   \n",
       "80  Después de la Charla  Antes de la charla  Antes de la charla   \n",
       "81  Después de la Charla  Antes de la charla  Antes de la charla   \n",
       "82  Después de la Charla  Antes de la charla  Antes de la charla   \n",
       "83  Después de la Charla  Antes de la charla  Antes de la charla   \n",
       "\n",
       "                   sex             trabaja                 carrera  \\\n",
       "0            Masculino                  Si  Ingeniería en Sistemas   \n",
       "1             Femenino                  Si  Ingeniería en Sistemas   \n",
       "2             Femenino                  Si  Ingeniería en Sistemas   \n",
       "3            Masculino                  No  Ingeniería en Sistemas   \n",
       "4            Masculino                  Si  Ingeniería en Sistemas   \n",
       "..                 ...                 ...                     ...   \n",
       "79  Antes de la charla  Antes de la charla      Antes de la charla   \n",
       "80  Antes de la charla  Antes de la charla      Antes de la charla   \n",
       "81  Antes de la charla  Antes de la charla      Antes de la charla   \n",
       "82  Antes de la charla  Antes de la charla      Antes de la charla   \n",
       "83  Antes de la charla  Antes de la charla      Antes de la charla   \n",
       "\n",
       "         annio_carrera         autodidacta   temas_interes_cie  \\\n",
       "0        5to año o más                  Si                 5.0   \n",
       "1        5to año o más                  Si                 1.0   \n",
       "2        5to año o más                  Si                 2.0   \n",
       "3        5to año o más                  Si                 5.0   \n",
       "4              4to año                  Si                 3.0   \n",
       "..                 ...                 ...                 ...   \n",
       "79  Antes de la charla  Antes de la charla  Antes de la charla   \n",
       "80  Antes de la charla  Antes de la charla  Antes de la charla   \n",
       "81  Antes de la charla  Antes de la charla  Antes de la charla   \n",
       "82  Antes de la charla  Antes de la charla  Antes de la charla   \n",
       "83  Antes de la charla  Antes de la charla  Antes de la charla   \n",
       "\n",
       "     temas_interes_tec  ... temas_disruptivo_va temas_disruptivo_nano  \\\n",
       "0                  5.0  ...   Despues de charla     Despues de charla   \n",
       "1                  5.0  ...   Despues de charla     Despues de charla   \n",
       "2                  3.0  ...   Despues de charla     Despues de charla   \n",
       "3                  5.0  ...   Despues de charla     Despues de charla   \n",
       "4                  3.0  ...   Despues de charla     Despues de charla   \n",
       "..                 ...  ...                 ...                   ...   \n",
       "79  Antes de la charla  ...               Medio                  Poco   \n",
       "80  Antes de la charla  ...               Medio                 Medio   \n",
       "81  Antes de la charla  ...               Medio                 Medio   \n",
       "82  Antes de la charla  ...                Alto              Muy alto   \n",
       "83  Antes de la charla  ...                Alto                 Medio   \n",
       "\n",
       "                              segmento_interes_charla     curso_cuantica  \\\n",
       "0                                   Despues de charla  Despues de charla   \n",
       "1                                   Despues de charla  Despues de charla   \n",
       "2                                   Despues de charla  Despues de charla   \n",
       "3                                   Despues de charla  Despues de charla   \n",
       "4                                   Despues de charla  Despues de charla   \n",
       "..                                                ...                ...   \n",
       "79  Arquitectura de Computadores;Diseño Digital;Ba...                 Si   \n",
       "80  Arquitectura de Computadores;Diseño Digital;Co...                 Si   \n",
       "81  Arquitectura de Computadores;Diseño Digital;Co...                 Si   \n",
       "82  Compiladores;Arquitectura de Computadores;Sist...                 Si   \n",
       "83  Sistemas Operativos II;Base de datos II;Arquit...                 Si   \n",
       "\n",
       "   charla_informativa cursos_recomendaciones  \\\n",
       "0   Despues de charla      Despues de charla   \n",
       "1   Despues de charla      Despues de charla   \n",
       "2   Despues de charla      Despues de charla   \n",
       "3   Despues de charla      Despues de charla   \n",
       "4   Despues de charla      Despues de charla   \n",
       "..                ...                    ...   \n",
       "79                 No                     Si   \n",
       "80  Solo si es gratis                     Si   \n",
       "81  Solo si es gratis                     Si   \n",
       "82  Solo si es gratis                     Si   \n",
       "83  Solo si es gratis                     Si   \n",
       "\n",
       "                                          charla_util  \\\n",
       "0                                   Despues de charla   \n",
       "1                                   Despues de charla   \n",
       "2                                   Despues de charla   \n",
       "3                                   Despues de charla   \n",
       "4                                   Despues de charla   \n",
       "..                                                ...   \n",
       "79                       Aplicaciones de la Cuántica;   \n",
       "80                       Aplicaciones de la Cuántica;   \n",
       "81  Fundamentos Computación Cuántica;Aplicaciones ...   \n",
       "82  Fundamentos Computación Cuántica;Aplicaciones ...   \n",
       "83  Fundamentos Computación Cuántica;Aplicaciones ...   \n",
       "\n",
       "   idea_aplicaciones_charla calificacion_charla has_null  \n",
       "0         Despues de charla   Despues de charla      NaN  \n",
       "1         Despues de charla   Despues de charla      NaN  \n",
       "2         Despues de charla   Despues de charla      NaN  \n",
       "3         Despues de charla   Despues de charla      NaN  \n",
       "4         Despues de charla   Despues de charla      NaN  \n",
       "..                      ...                 ...      ...  \n",
       "79                       Si                 5.0      NaN  \n",
       "80                       Si                 4.0      NaN  \n",
       "81                       Si                 4.0      NaN  \n",
       "82                       Si                 5.0      NaN  \n",
       "83                       Si                 5.0      NaN  \n",
       "\n",
       "[84 rows x 58 columns]"
      ]
     },
     "execution_count": 64,
     "metadata": {},
     "output_type": "execute_result"
    }
   ],
   "source": [
    "encuesta1_wo_nulls = encuesta1.merge( encuesta1_w_nulls.loc[ : , [\"has_null\"] ] , left_index=True , right_index=True , how=\"left\" )\n",
    "encuesta1_wo_nulls.loc[ pd.isnull( encuesta1_wo_nulls[\"has_null\"] ) , : ]"
   ]
  },
  {
   "cell_type": "markdown",
   "id": "239755e2-9e55-49a1-80ff-3a195a528296",
   "metadata": {},
   "source": [
    "**VALIDANDO QUE EL DATAFRAME NO TENGA VALORES NULOS**"
   ]
  },
  {
   "cell_type": "code",
   "execution_count": 65,
   "id": "52e7115f-8b87-4be7-aa49-acea9c278749",
   "metadata": {},
   "outputs": [
    {
     "name": "stdout",
     "output_type": "stream",
     "text": [
      "El DataFrame no tiene valores nulos\n"
     ]
    }
   ],
   "source": [
    "if encuesta1.isnull().values.any():\n",
    "    print('El DataFrame tiene valores nulos')\n",
    "else:\n",
    "    print('El DataFrame no tiene valores nulos')"
   ]
  },
  {
   "cell_type": "markdown",
   "id": "1a5faec0-a86e-4b6c-a993-01c3ca490a88",
   "metadata": {},
   "source": [
    "**POPULARIDAD DE VARIABLES CATEGORICAS**"
   ]
  },
  {
   "cell_type": "code",
   "execution_count": 66,
   "id": "af58b12a-857d-4457-8308-5662a7583a73",
   "metadata": {},
   "outputs": [],
   "source": [
    "def get_popularidad_seleccion_multiple(df, col, sep=r'[,;]'):\n",
    "    summary = pd.DataFrame()\n",
    "    for index, row in df.iterrows():    \n",
    "        s = pd.DataFrame({\n",
    "            col: re.split(sep, row[col])\n",
    "        })\n",
    "        s[col] = s.apply(lambda r: r[col].strip(), axis=1)\n",
    "        s['n'] = 1\n",
    "        summary = pd.concat([summary, s])    \n",
    "    summary = summary.groupby([col], as_index=False).agg({'n': ['sum']})\n",
    "    summary.columns = summary.columns.droplevel(1)\n",
    "    return summary.sort_values('n', ascending=False)"
   ]
  },
  {
   "cell_type": "code",
   "execution_count": 67,
   "id": "8610ac5b-9d74-4f83-9f29-36a483c4dbba",
   "metadata": {},
   "outputs": [],
   "source": [
    "edad_pop = get_popularidad_seleccion_multiple( encuesta1 , \"edad\" )\n",
    "annio_carrera_pop = get_popularidad_seleccion_multiple( encuesta1 , \"annio_carrera\" )\n",
    "habilidad_progra_pop = get_popularidad_seleccion_multiple( encuesta1 , \"habilidad_progra\" )\n",
    "lengua_progra_pop = get_popularidad_seleccion_multiple( encuesta1 , \"lengua_progra\" )\n",
    "nivel_divulg_pop = get_popularidad_seleccion_multiple( encuesta1 , \"nivel_divulg\" )\n",
    "conexion_tematica_pop = get_popularidad_seleccion_multiple( encuesta1 , \"conexion_tematica\" )\n",
    "segmento_interes_charla_pop = get_popularidad_seleccion_multiple( encuesta1 , \"segmento_interes_charla\" )\n",
    "charla_util_pop = get_popularidad_seleccion_multiple( encuesta1 , \"charla_util\" )\n",
    "\n"
   ]
  },
  {
   "cell_type": "code",
   "execution_count": 68,
   "id": "2d5c12e6-f9d9-4015-9ea2-10b0fff3956d",
   "metadata": {},
   "outputs": [],
   "source": [
    "#pd.set_option('display.max_rows', None) #linea para visualizar tabla completa"
   ]
  },
  {
   "cell_type": "code",
   "execution_count": 69,
   "id": "23ea9e0e-91b3-46b8-8002-5f272d91d8e2",
   "metadata": {},
   "outputs": [
    {
     "data": {
      "text/html": [
       "<div>\n",
       "<style scoped>\n",
       "    .dataframe tbody tr th:only-of-type {\n",
       "        vertical-align: middle;\n",
       "    }\n",
       "\n",
       "    .dataframe tbody tr th {\n",
       "        vertical-align: top;\n",
       "    }\n",
       "\n",
       "    .dataframe thead th {\n",
       "        text-align: right;\n",
       "    }\n",
       "</style>\n",
       "<table border=\"1\" class=\"dataframe\">\n",
       "  <thead>\n",
       "    <tr style=\"text-align: right;\">\n",
       "      <th></th>\n",
       "      <th>lengua_progra</th>\n",
       "      <th>n</th>\n",
       "    </tr>\n",
       "  </thead>\n",
       "  <tbody>\n",
       "    <tr>\n",
       "      <th>0</th>\n",
       "      <td></td>\n",
       "      <td>48</td>\n",
       "    </tr>\n",
       "    <tr>\n",
       "      <th>7</th>\n",
       "      <td>JavaScript</td>\n",
       "      <td>38</td>\n",
       "    </tr>\n",
       "    <tr>\n",
       "      <th>1</th>\n",
       "      <td>Antes de la charla</td>\n",
       "      <td>36</td>\n",
       "    </tr>\n",
       "    <tr>\n",
       "      <th>3</th>\n",
       "      <td>C++</td>\n",
       "      <td>31</td>\n",
       "    </tr>\n",
       "    <tr>\n",
       "      <th>9</th>\n",
       "      <td>PHP</td>\n",
       "      <td>20</td>\n",
       "    </tr>\n",
       "    <tr>\n",
       "      <th>10</th>\n",
       "      <td>Python</td>\n",
       "      <td>19</td>\n",
       "    </tr>\n",
       "    <tr>\n",
       "      <th>2</th>\n",
       "      <td>C#</td>\n",
       "      <td>5</td>\n",
       "    </tr>\n",
       "    <tr>\n",
       "      <th>6</th>\n",
       "      <td>Java</td>\n",
       "      <td>4</td>\n",
       "    </tr>\n",
       "    <tr>\n",
       "      <th>4</th>\n",
       "      <td>Go</td>\n",
       "      <td>2</td>\n",
       "    </tr>\n",
       "    <tr>\n",
       "      <th>15</th>\n",
       "      <td>java</td>\n",
       "      <td>2</td>\n",
       "    </tr>\n",
       "    <tr>\n",
       "      <th>5</th>\n",
       "      <td>JAVA</td>\n",
       "      <td>1</td>\n",
       "    </tr>\n",
       "    <tr>\n",
       "      <th>8</th>\n",
       "      <td>Julia</td>\n",
       "      <td>1</td>\n",
       "    </tr>\n",
       "    <tr>\n",
       "      <th>11</th>\n",
       "      <td>React</td>\n",
       "      <td>1</td>\n",
       "    </tr>\n",
       "    <tr>\n",
       "      <th>12</th>\n",
       "      <td>Ren'Py</td>\n",
       "      <td>1</td>\n",
       "    </tr>\n",
       "    <tr>\n",
       "      <th>13</th>\n",
       "      <td>Rust</td>\n",
       "      <td>1</td>\n",
       "    </tr>\n",
       "    <tr>\n",
       "      <th>14</th>\n",
       "      <td>Typescript</td>\n",
       "      <td>1</td>\n",
       "    </tr>\n",
       "  </tbody>\n",
       "</table>\n",
       "</div>"
      ],
      "text/plain": [
       "         lengua_progra   n\n",
       "0                       48\n",
       "7           JavaScript  38\n",
       "1   Antes de la charla  36\n",
       "3                  C++  31\n",
       "9                  PHP  20\n",
       "10              Python  19\n",
       "2                   C#   5\n",
       "6                 Java   4\n",
       "4                   Go   2\n",
       "15                java   2\n",
       "5                 JAVA   1\n",
       "8                Julia   1\n",
       "11               React   1\n",
       "12              Ren'Py   1\n",
       "13                Rust   1\n",
       "14          Typescript   1"
      ]
     },
     "execution_count": 69,
     "metadata": {},
     "output_type": "execute_result"
    }
   ],
   "source": [
    "lengua_progra_pop"
   ]
  },
  {
   "cell_type": "markdown",
   "id": "24c32e58-1a10-4b24-9633-c8ac5471efe4",
   "metadata": {},
   "source": [
    "**LIMPIEZA DE: lengua_pogra**"
   ]
  },
  {
   "cell_type": "code",
   "execution_count": 70,
   "id": "63cdf73e-241c-4964-9706-15f0e5b76795",
   "metadata": {},
   "outputs": [],
   "source": [
    "lengua_progra_pop = lengua_progra_pop[lengua_progra_pop['lengua_progra'] != '']"
   ]
  },
  {
   "cell_type": "code",
   "execution_count": 71,
   "id": "bb64bf11-263b-46b1-a2e3-d1eca01c62bf",
   "metadata": {},
   "outputs": [
    {
     "data": {
      "text/html": [
       "<div>\n",
       "<style scoped>\n",
       "    .dataframe tbody tr th:only-of-type {\n",
       "        vertical-align: middle;\n",
       "    }\n",
       "\n",
       "    .dataframe tbody tr th {\n",
       "        vertical-align: top;\n",
       "    }\n",
       "\n",
       "    .dataframe thead th {\n",
       "        text-align: right;\n",
       "    }\n",
       "</style>\n",
       "<table border=\"1\" class=\"dataframe\">\n",
       "  <thead>\n",
       "    <tr style=\"text-align: right;\">\n",
       "      <th></th>\n",
       "      <th>lengua_progra</th>\n",
       "      <th>n</th>\n",
       "    </tr>\n",
       "  </thead>\n",
       "  <tbody>\n",
       "    <tr>\n",
       "      <th>7</th>\n",
       "      <td>JavaScript</td>\n",
       "      <td>38</td>\n",
       "    </tr>\n",
       "    <tr>\n",
       "      <th>1</th>\n",
       "      <td>Antes de la charla</td>\n",
       "      <td>36</td>\n",
       "    </tr>\n",
       "    <tr>\n",
       "      <th>3</th>\n",
       "      <td>C++</td>\n",
       "      <td>31</td>\n",
       "    </tr>\n",
       "    <tr>\n",
       "      <th>9</th>\n",
       "      <td>PHP</td>\n",
       "      <td>20</td>\n",
       "    </tr>\n",
       "    <tr>\n",
       "      <th>10</th>\n",
       "      <td>Python</td>\n",
       "      <td>19</td>\n",
       "    </tr>\n",
       "    <tr>\n",
       "      <th>2</th>\n",
       "      <td>C#</td>\n",
       "      <td>5</td>\n",
       "    </tr>\n",
       "    <tr>\n",
       "      <th>6</th>\n",
       "      <td>Java</td>\n",
       "      <td>4</td>\n",
       "    </tr>\n",
       "    <tr>\n",
       "      <th>4</th>\n",
       "      <td>Go</td>\n",
       "      <td>2</td>\n",
       "    </tr>\n",
       "    <tr>\n",
       "      <th>15</th>\n",
       "      <td>java</td>\n",
       "      <td>2</td>\n",
       "    </tr>\n",
       "    <tr>\n",
       "      <th>5</th>\n",
       "      <td>JAVA</td>\n",
       "      <td>1</td>\n",
       "    </tr>\n",
       "    <tr>\n",
       "      <th>8</th>\n",
       "      <td>Julia</td>\n",
       "      <td>1</td>\n",
       "    </tr>\n",
       "    <tr>\n",
       "      <th>11</th>\n",
       "      <td>React</td>\n",
       "      <td>1</td>\n",
       "    </tr>\n",
       "    <tr>\n",
       "      <th>12</th>\n",
       "      <td>Ren'Py</td>\n",
       "      <td>1</td>\n",
       "    </tr>\n",
       "    <tr>\n",
       "      <th>13</th>\n",
       "      <td>Rust</td>\n",
       "      <td>1</td>\n",
       "    </tr>\n",
       "    <tr>\n",
       "      <th>14</th>\n",
       "      <td>Typescript</td>\n",
       "      <td>1</td>\n",
       "    </tr>\n",
       "  </tbody>\n",
       "</table>\n",
       "</div>"
      ],
      "text/plain": [
       "         lengua_progra   n\n",
       "7           JavaScript  38\n",
       "1   Antes de la charla  36\n",
       "3                  C++  31\n",
       "9                  PHP  20\n",
       "10              Python  19\n",
       "2                   C#   5\n",
       "6                 Java   4\n",
       "4                   Go   2\n",
       "15                java   2\n",
       "5                 JAVA   1\n",
       "8                Julia   1\n",
       "11               React   1\n",
       "12              Ren'Py   1\n",
       "13                Rust   1\n",
       "14          Typescript   1"
      ]
     },
     "execution_count": 71,
     "metadata": {},
     "output_type": "execute_result"
    }
   ],
   "source": [
    "lengua_progra_pop"
   ]
  },
  {
   "cell_type": "code",
   "execution_count": 72,
   "id": "b4db4879-94bc-47a0-affb-5f1d1abf1a2c",
   "metadata": {},
   "outputs": [],
   "source": [
    "lengua_progra_pop = lengua_progra_pop.drop(1) #Elimina la fila innecesaria"
   ]
  },
  {
   "cell_type": "code",
   "execution_count": 73,
   "id": "61874196-3b9a-4233-b7cd-437430f5ac1b",
   "metadata": {},
   "outputs": [
    {
     "data": {
      "text/html": [
       "<div>\n",
       "<style scoped>\n",
       "    .dataframe tbody tr th:only-of-type {\n",
       "        vertical-align: middle;\n",
       "    }\n",
       "\n",
       "    .dataframe tbody tr th {\n",
       "        vertical-align: top;\n",
       "    }\n",
       "\n",
       "    .dataframe thead th {\n",
       "        text-align: right;\n",
       "    }\n",
       "</style>\n",
       "<table border=\"1\" class=\"dataframe\">\n",
       "  <thead>\n",
       "    <tr style=\"text-align: right;\">\n",
       "      <th></th>\n",
       "      <th>lengua_progra</th>\n",
       "      <th>n</th>\n",
       "    </tr>\n",
       "  </thead>\n",
       "  <tbody>\n",
       "    <tr>\n",
       "      <th>7</th>\n",
       "      <td>JavaScript</td>\n",
       "      <td>38</td>\n",
       "    </tr>\n",
       "    <tr>\n",
       "      <th>3</th>\n",
       "      <td>C++</td>\n",
       "      <td>31</td>\n",
       "    </tr>\n",
       "    <tr>\n",
       "      <th>9</th>\n",
       "      <td>PHP</td>\n",
       "      <td>20</td>\n",
       "    </tr>\n",
       "    <tr>\n",
       "      <th>10</th>\n",
       "      <td>Python</td>\n",
       "      <td>19</td>\n",
       "    </tr>\n",
       "    <tr>\n",
       "      <th>2</th>\n",
       "      <td>C#</td>\n",
       "      <td>5</td>\n",
       "    </tr>\n",
       "    <tr>\n",
       "      <th>6</th>\n",
       "      <td>Java</td>\n",
       "      <td>4</td>\n",
       "    </tr>\n",
       "    <tr>\n",
       "      <th>4</th>\n",
       "      <td>Go</td>\n",
       "      <td>2</td>\n",
       "    </tr>\n",
       "    <tr>\n",
       "      <th>15</th>\n",
       "      <td>java</td>\n",
       "      <td>2</td>\n",
       "    </tr>\n",
       "    <tr>\n",
       "      <th>5</th>\n",
       "      <td>JAVA</td>\n",
       "      <td>1</td>\n",
       "    </tr>\n",
       "    <tr>\n",
       "      <th>8</th>\n",
       "      <td>Julia</td>\n",
       "      <td>1</td>\n",
       "    </tr>\n",
       "    <tr>\n",
       "      <th>11</th>\n",
       "      <td>React</td>\n",
       "      <td>1</td>\n",
       "    </tr>\n",
       "    <tr>\n",
       "      <th>12</th>\n",
       "      <td>Ren'Py</td>\n",
       "      <td>1</td>\n",
       "    </tr>\n",
       "    <tr>\n",
       "      <th>13</th>\n",
       "      <td>Rust</td>\n",
       "      <td>1</td>\n",
       "    </tr>\n",
       "    <tr>\n",
       "      <th>14</th>\n",
       "      <td>Typescript</td>\n",
       "      <td>1</td>\n",
       "    </tr>\n",
       "  </tbody>\n",
       "</table>\n",
       "</div>"
      ],
      "text/plain": [
       "   lengua_progra   n\n",
       "7     JavaScript  38\n",
       "3            C++  31\n",
       "9            PHP  20\n",
       "10        Python  19\n",
       "2             C#   5\n",
       "6           Java   4\n",
       "4             Go   2\n",
       "15          java   2\n",
       "5           JAVA   1\n",
       "8          Julia   1\n",
       "11         React   1\n",
       "12        Ren'Py   1\n",
       "13          Rust   1\n",
       "14    Typescript   1"
      ]
     },
     "execution_count": 73,
     "metadata": {},
     "output_type": "execute_result"
    }
   ],
   "source": [
    "lengua_progra_pop"
   ]
  },
  {
   "cell_type": "code",
   "execution_count": 74,
   "id": "c70e3f98-f9ae-4b82-a896-2abd0c4c420a",
   "metadata": {},
   "outputs": [],
   "source": [
    "pd.DataFrame(lengua_progra_pop).to_csv(\"equivalentes_lengua_variablesE1.csv\", sep=\";\", index=False)"
   ]
  },
  {
   "cell_type": "markdown",
   "id": "7e986915-bf88-4f52-8ef0-d4b941b01193",
   "metadata": {},
   "source": [
    "**COMBINACIÓN (INNERJOIN) ENTRE: equivalente_lengua y lengua_progra_pop**"
   ]
  },
  {
   "cell_type": "code",
   "execution_count": 75,
   "id": "9f4ba010-bf88-4efe-87e1-f066e5a2f387",
   "metadata": {},
   "outputs": [],
   "source": [
    "lengua_progra_pop = lengua_progra_pop.merge( equivalente_lengua , right_on=\"lengua_progra\" , left_on=\"lengua_progra\" , how='inner' )"
   ]
  },
  {
   "cell_type": "code",
   "execution_count": 76,
   "id": "03af269c-a866-499f-a34b-8e2878c6f794",
   "metadata": {},
   "outputs": [],
   "source": [
    "lengua_progra_pop = lengua_progra_pop.loc[ : , ['equivalentes','n_x'] ]"
   ]
  },
  {
   "cell_type": "code",
   "execution_count": 77,
   "id": "eeed90d1-b024-4ca4-b13a-a41b934bce56",
   "metadata": {},
   "outputs": [],
   "source": [
    "lengua_progra_pop = lengua_progra_pop.groupby( [\"equivalentes\"] , as_index=False  ).sum()"
   ]
  },
  {
   "cell_type": "code",
   "execution_count": 78,
   "id": "a9250848-2b43-41b0-9f2b-04e138814379",
   "metadata": {},
   "outputs": [],
   "source": [
    "lengua_progra_pop = lengua_progra_pop.sort_values( ['n_x'] , ascending=False )"
   ]
  },
  {
   "cell_type": "markdown",
   "id": "a06be240-4d8e-4b6d-a593-f17b05209af6",
   "metadata": {},
   "source": [
    "**AGREGANDO COLUMNA PORCENTAJE**"
   ]
  },
  {
   "cell_type": "code",
   "execution_count": 79,
   "id": "f5ebdbc7-8c72-4db1-982f-02b2bbd44943",
   "metadata": {},
   "outputs": [],
   "source": [
    "lengua_progra_pop['porcentaje'] =  lengua_progra_pop.apply( lambda r: r['n_x'] / np.sum(lengua_progra_pop['n_x']) , axis = 1 )"
   ]
  },
  {
   "cell_type": "code",
   "execution_count": 80,
   "id": "66af2af8-c89a-4543-a718-bf400a2ddaf7",
   "metadata": {},
   "outputs": [],
   "source": [
    "edad_pop['porcentaje'] =  edad_pop.apply( lambda r: r['n'] / np.sum(edad_pop['n']) , axis = 1 ) \n",
    "annio_carrera_pop['porcentaje'] =  annio_carrera_pop.apply( lambda r: r['n'] / np.sum(annio_carrera_pop['n']) , axis = 1 )\n",
    "habilidad_progra_pop['porcentaje'] =  habilidad_progra_pop.apply( lambda r: r['n'] / np.sum(habilidad_progra_pop['n']) , axis = 1 )\n",
    "conexion_tematica_pop['porcentaje'] =  conexion_tematica_pop.apply( lambda r: r['n'] / np.sum(conexion_tematica_pop['n']) , axis = 1 )\n",
    "nivel_divulg_pop['porcentaje'] =  nivel_divulg_pop.apply( lambda r: r['n'] / np.sum(nivel_divulg_pop['n']) , axis = 1 )\n",
    "segmento_interes_charla_pop['porcentaje'] =  segmento_interes_charla_pop.apply( lambda r: r['n'] / np.sum(segmento_interes_charla_pop['n']) , axis = 1 )\n",
    "charla_util_pop['porcentaje'] =  charla_util_pop.apply( lambda r: r['n'] / np.sum(charla_util_pop['n']) , axis = 1 )"
   ]
  },
  {
   "cell_type": "code",
   "execution_count": 81,
   "id": "55a05347-426b-46c1-a6e7-781a3d0ddb19",
   "metadata": {},
   "outputs": [],
   "source": [
    "edad_pop = edad_pop.drop(3) #Elimina la fila vacia\n",
    "annio_carrera_pop = annio_carrera_pop.drop(4)\n",
    "habilidad_progra_pop = habilidad_progra_pop.drop(0)\n",
    "conexion_tematica_pop = conexion_tematica_pop.drop(2) #Elimina la fila vacia\n",
    "conexion_tematica_pop = conexion_tematica_pop.drop(0)\n",
    "nivel_divulg_pop = nivel_divulg_pop.drop(1) #Elimina la fila vacia\n",
    "segmento_interes_charla_pop = segmento_interes_charla_pop.drop(4) #Elimina la fila vacia\n",
    "segmento_interes_charla_pop = segmento_interes_charla_pop.drop(0) #Elimina la fila vacia\n",
    "charla_util_pop = charla_util_pop.drop(2) #Elimina la fila vacia"
   ]
  },
  {
   "cell_type": "code",
   "execution_count": 82,
   "id": "3ec0ff94-b955-48b1-b668-c72dd4ac6b08",
   "metadata": {},
   "outputs": [],
   "source": [
    "charla_util_pop = charla_util_pop.drop(0) #Elimina la fila vacia"
   ]
  },
  {
   "cell_type": "code",
   "execution_count": 83,
   "id": "6088a990-bcbd-4af8-af89-4f3594414e0b",
   "metadata": {},
   "outputs": [],
   "source": [
    "conexion_tematica_pop = conexion_tematica_pop.drop(6)"
   ]
  },
  {
   "cell_type": "code",
   "execution_count": 85,
   "id": "d36ceb52-7443-4152-921e-450d0d59092c",
   "metadata": {},
   "outputs": [
    {
     "data": {
      "text/html": [
       "<div>\n",
       "<style scoped>\n",
       "    .dataframe tbody tr th:only-of-type {\n",
       "        vertical-align: middle;\n",
       "    }\n",
       "\n",
       "    .dataframe tbody tr th {\n",
       "        vertical-align: top;\n",
       "    }\n",
       "\n",
       "    .dataframe thead th {\n",
       "        text-align: right;\n",
       "    }\n",
       "</style>\n",
       "<table border=\"1\" class=\"dataframe\">\n",
       "  <thead>\n",
       "    <tr style=\"text-align: right;\">\n",
       "      <th></th>\n",
       "      <th>annio_carrera</th>\n",
       "      <th>n</th>\n",
       "      <th>porcentaje</th>\n",
       "    </tr>\n",
       "  </thead>\n",
       "  <tbody>\n",
       "    <tr>\n",
       "      <th>2</th>\n",
       "      <td>4to año</td>\n",
       "      <td>25</td>\n",
       "      <td>0.297619</td>\n",
       "    </tr>\n",
       "    <tr>\n",
       "      <th>3</th>\n",
       "      <td>5to año o más</td>\n",
       "      <td>19</td>\n",
       "      <td>0.226190</td>\n",
       "    </tr>\n",
       "    <tr>\n",
       "      <th>1</th>\n",
       "      <td>3er año</td>\n",
       "      <td>3</td>\n",
       "      <td>0.035714</td>\n",
       "    </tr>\n",
       "    <tr>\n",
       "      <th>0</th>\n",
       "      <td>2do año</td>\n",
       "      <td>1</td>\n",
       "      <td>0.011905</td>\n",
       "    </tr>\n",
       "  </tbody>\n",
       "</table>\n",
       "</div>"
      ],
      "text/plain": [
       "   annio_carrera   n  porcentaje\n",
       "2        4to año  25    0.297619\n",
       "3  5to año o más  19    0.226190\n",
       "1        3er año   3    0.035714\n",
       "0        2do año   1    0.011905"
      ]
     },
     "execution_count": 85,
     "metadata": {},
     "output_type": "execute_result"
    }
   ],
   "source": [
    "annio_carrera_pop"
   ]
  },
  {
   "cell_type": "code",
   "execution_count": 86,
   "id": "1a4803a6-9a40-4069-b1c3-affb64472546",
   "metadata": {},
   "outputs": [
    {
     "data": {
      "text/html": [
       "<div>\n",
       "<style scoped>\n",
       "    .dataframe tbody tr th:only-of-type {\n",
       "        vertical-align: middle;\n",
       "    }\n",
       "\n",
       "    .dataframe tbody tr th {\n",
       "        vertical-align: top;\n",
       "    }\n",
       "\n",
       "    .dataframe thead th {\n",
       "        text-align: right;\n",
       "    }\n",
       "</style>\n",
       "<table border=\"1\" class=\"dataframe\">\n",
       "  <thead>\n",
       "    <tr style=\"text-align: right;\">\n",
       "      <th></th>\n",
       "      <th>edad</th>\n",
       "      <th>n</th>\n",
       "      <th>porcentaje</th>\n",
       "    </tr>\n",
       "  </thead>\n",
       "  <tbody>\n",
       "    <tr>\n",
       "      <th>1</th>\n",
       "      <td>22-27</td>\n",
       "      <td>31</td>\n",
       "      <td>0.369048</td>\n",
       "    </tr>\n",
       "    <tr>\n",
       "      <th>2</th>\n",
       "      <td>28-32</td>\n",
       "      <td>11</td>\n",
       "      <td>0.130952</td>\n",
       "    </tr>\n",
       "    <tr>\n",
       "      <th>0</th>\n",
       "      <td>17-21</td>\n",
       "      <td>5</td>\n",
       "      <td>0.059524</td>\n",
       "    </tr>\n",
       "    <tr>\n",
       "      <th>4</th>\n",
       "      <td>Más de 32</td>\n",
       "      <td>1</td>\n",
       "      <td>0.011905</td>\n",
       "    </tr>\n",
       "  </tbody>\n",
       "</table>\n",
       "</div>"
      ],
      "text/plain": [
       "        edad   n  porcentaje\n",
       "1      22-27  31    0.369048\n",
       "2      28-32  11    0.130952\n",
       "0      17-21   5    0.059524\n",
       "4  Más de 32   1    0.011905"
      ]
     },
     "execution_count": 86,
     "metadata": {},
     "output_type": "execute_result"
    }
   ],
   "source": [
    "edad_pop"
   ]
  },
  {
   "cell_type": "code",
   "execution_count": 87,
   "id": "faee4478-08b0-4f9f-84f0-02c62d05fd61",
   "metadata": {},
   "outputs": [
    {
     "data": {
      "text/html": [
       "<div>\n",
       "<style scoped>\n",
       "    .dataframe tbody tr th:only-of-type {\n",
       "        vertical-align: middle;\n",
       "    }\n",
       "\n",
       "    .dataframe tbody tr th {\n",
       "        vertical-align: top;\n",
       "    }\n",
       "\n",
       "    .dataframe thead th {\n",
       "        text-align: right;\n",
       "    }\n",
       "</style>\n",
       "<table border=\"1\" class=\"dataframe\">\n",
       "  <thead>\n",
       "    <tr style=\"text-align: right;\">\n",
       "      <th></th>\n",
       "      <th>conexion_tematica</th>\n",
       "      <th>n</th>\n",
       "      <th>porcentaje</th>\n",
       "    </tr>\n",
       "  </thead>\n",
       "  <tbody>\n",
       "    <tr>\n",
       "      <th>1</th>\n",
       "      <td>Arquitectura de Computadores</td>\n",
       "      <td>31</td>\n",
       "      <td>0.179191</td>\n",
       "    </tr>\n",
       "    <tr>\n",
       "      <th>5</th>\n",
       "      <td>Inteligencia Artificial</td>\n",
       "      <td>30</td>\n",
       "      <td>0.173410</td>\n",
       "    </tr>\n",
       "    <tr>\n",
       "      <th>4</th>\n",
       "      <td>Diseño Digital</td>\n",
       "      <td>26</td>\n",
       "      <td>0.150289</td>\n",
       "    </tr>\n",
       "    <tr>\n",
       "      <th>3</th>\n",
       "      <td>Diseño</td>\n",
       "      <td>1</td>\n",
       "      <td>0.005780</td>\n",
       "    </tr>\n",
       "  </tbody>\n",
       "</table>\n",
       "</div>"
      ],
      "text/plain": [
       "              conexion_tematica   n  porcentaje\n",
       "1  Arquitectura de Computadores  31    0.179191\n",
       "5       Inteligencia Artificial  30    0.173410\n",
       "4                Diseño Digital  26    0.150289\n",
       "3                        Diseño   1    0.005780"
      ]
     },
     "execution_count": 87,
     "metadata": {},
     "output_type": "execute_result"
    }
   ],
   "source": [
    "conexion_tematica_pop"
   ]
  },
  {
   "cell_type": "code",
   "execution_count": 88,
   "id": "9a2598d5-4392-46f3-8d02-58479ba404f8",
   "metadata": {},
   "outputs": [
    {
     "data": {
      "text/html": [
       "<div>\n",
       "<style scoped>\n",
       "    .dataframe tbody tr th:only-of-type {\n",
       "        vertical-align: middle;\n",
       "    }\n",
       "\n",
       "    .dataframe tbody tr th {\n",
       "        vertical-align: top;\n",
       "    }\n",
       "\n",
       "    .dataframe thead th {\n",
       "        text-align: right;\n",
       "    }\n",
       "</style>\n",
       "<table border=\"1\" class=\"dataframe\">\n",
       "  <thead>\n",
       "    <tr style=\"text-align: right;\">\n",
       "      <th></th>\n",
       "      <th>equivalentes</th>\n",
       "      <th>n_x</th>\n",
       "      <th>porcentaje</th>\n",
       "    </tr>\n",
       "  </thead>\n",
       "  <tbody>\n",
       "    <tr>\n",
       "      <th>3</th>\n",
       "      <td>JavaScript</td>\n",
       "      <td>38</td>\n",
       "      <td>0.299213</td>\n",
       "    </tr>\n",
       "    <tr>\n",
       "      <th>0</th>\n",
       "      <td>C++</td>\n",
       "      <td>31</td>\n",
       "      <td>0.244094</td>\n",
       "    </tr>\n",
       "    <tr>\n",
       "      <th>5</th>\n",
       "      <td>PHP</td>\n",
       "      <td>20</td>\n",
       "      <td>0.157480</td>\n",
       "    </tr>\n",
       "    <tr>\n",
       "      <th>6</th>\n",
       "      <td>Python</td>\n",
       "      <td>19</td>\n",
       "      <td>0.149606</td>\n",
       "    </tr>\n",
       "    <tr>\n",
       "      <th>4</th>\n",
       "      <td>Otro</td>\n",
       "      <td>10</td>\n",
       "      <td>0.078740</td>\n",
       "    </tr>\n",
       "    <tr>\n",
       "      <th>2</th>\n",
       "      <td>Java</td>\n",
       "      <td>7</td>\n",
       "      <td>0.055118</td>\n",
       "    </tr>\n",
       "    <tr>\n",
       "      <th>1</th>\n",
       "      <td>Go</td>\n",
       "      <td>2</td>\n",
       "      <td>0.015748</td>\n",
       "    </tr>\n",
       "  </tbody>\n",
       "</table>\n",
       "</div>"
      ],
      "text/plain": [
       "  equivalentes  n_x  porcentaje\n",
       "3   JavaScript   38    0.299213\n",
       "0          C++   31    0.244094\n",
       "5          PHP   20    0.157480\n",
       "6       Python   19    0.149606\n",
       "4         Otro   10    0.078740\n",
       "2         Java    7    0.055118\n",
       "1           Go    2    0.015748"
      ]
     },
     "execution_count": 88,
     "metadata": {},
     "output_type": "execute_result"
    }
   ],
   "source": [
    "lengua_progra_pop"
   ]
  },
  {
   "cell_type": "markdown",
   "id": "4ccc0b53-2260-45fe-9565-e025f350633b",
   "metadata": {},
   "source": [
    "**VISUALIZACIÓN DE POPULARIDAD EN GRAFICO DE BARRAS**"
   ]
  },
  {
   "cell_type": "markdown",
   "id": "7020a7fa-c90d-4f98-9596-da2cb306c0d8",
   "metadata": {},
   "source": [
    "**POPULARIDAD EDAD**"
   ]
  },
  {
   "cell_type": "code",
   "execution_count": 89,
   "id": "7285ec32-c576-44c6-ae56-f9ab2de46f51",
   "metadata": {},
   "outputs": [
    {
     "data": {
      "text/plain": [
       "<BarContainer object of 4 artists>"
      ]
     },
     "execution_count": 89,
     "metadata": {},
     "output_type": "execute_result"
    },
    {
     "data": {
      "image/png": "[encoded data removed]",
      "text/plain": [
       "<Figure size 432x288 with 1 Axes>"
      ]
     },
     "metadata": {
      "needs_background": "light"
     },
     "output_type": "display_data"
    }
   ],
   "source": [
    "plt.xticks( rotation = 90 )\n",
    "plt.bar( edad_pop['edad'] , edad_pop['porcentaje'] )"
   ]
  },
  {
   "cell_type": "markdown",
   "id": "c1c303e5-fc0c-43fa-aca4-1544f3795434",
   "metadata": {},
   "source": [
    "**POPULARIDAD ANNIO CARRERA**"
   ]
  },
  {
   "cell_type": "code",
   "execution_count": 90,
   "id": "e48a3f49-2210-4f22-a1b1-a5a2c436d4b9",
   "metadata": {},
   "outputs": [
    {
     "data": {
      "text/plain": [
       "<BarContainer object of 4 artists>"
      ]
     },
     "execution_count": 90,
     "metadata": {},
     "output_type": "execute_result"
    },
    {
     "data": {
      "image/png": "[encoded data removed]",
      "text/plain": [
       "<Figure size 432x288 with 1 Axes>"
      ]
     },
     "metadata": {
      "needs_background": "light"
     },
     "output_type": "display_data"
    }
   ],
   "source": [
    "plt.xticks( rotation = 90 )\n",
    "plt.bar( annio_carrera_pop['annio_carrera'] , annio_carrera_pop['porcentaje'] )"
   ]
  },
  {
   "cell_type": "markdown",
   "id": "df9a1209-1251-4142-9c7a-426cda3af897",
   "metadata": {},
   "source": [
    "**POPULARIDAD HABILIDAD_PROGRA**"
   ]
  },
  {
   "cell_type": "code",
   "execution_count": 91,
   "id": "924c6f22-1e5a-4b02-a62c-23df58873b19",
   "metadata": {},
   "outputs": [
    {
     "data": {
      "text/plain": [
       "<BarContainer object of 3 artists>"
      ]
     },
     "execution_count": 91,
     "metadata": {},
     "output_type": "execute_result"
    },
    {
     "data": {
      "image/png": "[encoded data removed]",
      "text/plain": [
       "<Figure size 432x288 with 1 Axes>"
      ]
     },
     "metadata": {
      "needs_background": "light"
     },
     "output_type": "display_data"
    }
   ],
   "source": [
    "plt.xticks( rotation = 90 )\n",
    "plt.bar( habilidad_progra_pop['habilidad_progra'] , habilidad_progra_pop['porcentaje'] )"
   ]
  },
  {
   "cell_type": "markdown",
   "id": "5c10e2a8-5227-4d84-9013-66555aee618d",
   "metadata": {},
   "source": [
    "**POPULARIDAD conexion_tematica**"
   ]
  },
  {
   "cell_type": "code",
   "execution_count": 92,
   "id": "a603cd3b-9cd0-4f58-a628-93c765c7ba62",
   "metadata": {},
   "outputs": [
    {
     "data": {
      "text/plain": [
       "<BarContainer object of 4 artists>"
      ]
     },
     "execution_count": 92,
     "metadata": {},
     "output_type": "execute_result"
    },
    {
     "data": {
      "image/png": "[encoded data removed]",
      "text/plain": [
       "<Figure size 432x288 with 1 Axes>"
      ]
     },
     "metadata": {
      "needs_background": "light"
     },
     "output_type": "display_data"
    }
   ],
   "source": [
    "plt.xticks( rotation = 90 )\n",
    "plt.bar( conexion_tematica_pop['conexion_tematica'] , conexion_tematica_pop['porcentaje'] )"
   ]
  },
  {
   "cell_type": "markdown",
   "id": "45e81de8-1a76-4f47-9d71-f8355894ef93",
   "metadata": {},
   "source": [
    "**POPULARIDAD nivel_divulg**"
   ]
  },
  {
   "cell_type": "code",
   "execution_count": 93,
   "id": "029180fb-d267-4068-a015-92a11a695e46",
   "metadata": {},
   "outputs": [
    {
     "data": {
      "text/plain": [
       "<BarContainer object of 4 artists>"
      ]
     },
     "execution_count": 93,
     "metadata": {},
     "output_type": "execute_result"
    },
    {
     "data": {
      "image/png": "[encoded data removed]",
      "text/plain": [
       "<Figure size 432x288 with 1 Axes>"
      ]
     },
     "metadata": {
      "needs_background": "light"
     },
     "output_type": "display_data"
    }
   ],
   "source": [
    "plt.xticks( rotation = 90 )\n",
    "plt.bar( nivel_divulg_pop['nivel_divulg'] , nivel_divulg_pop['porcentaje'] )"
   ]
  },
  {
   "cell_type": "markdown",
   "id": "d9a29969-0c4c-42f5-9268-f79e9853d556",
   "metadata": {},
   "source": [
    "**POPULARIDAD segmento_interes**"
   ]
  },
  {
   "cell_type": "code",
   "execution_count": 94,
   "id": "ce06383a-0de2-4be6-a5d0-c55ff5f5a071",
   "metadata": {},
   "outputs": [
    {
     "data": {
      "text/plain": [
       "<BarContainer object of 5 artists>"
      ]
     },
     "execution_count": 94,
     "metadata": {},
     "output_type": "execute_result"
    },
    {
     "data": {
      "image/png": "[encoded data removed]",
      "text/plain": [
       "<Figure size 432x288 with 1 Axes>"
      ]
     },
     "metadata": {
      "needs_background": "light"
     },
     "output_type": "display_data"
    }
   ],
   "source": [
    "plt.xticks( rotation = 90 )\n",
    "plt.bar( segmento_interes_charla_pop['segmento_interes_charla'] , segmento_interes_charla_pop['porcentaje'] )"
   ]
  },
  {
   "cell_type": "markdown",
   "id": "7e8fd009-b3b4-4ff0-aaa0-8398cacf804d",
   "metadata": {},
   "source": [
    "**POPULARIDAD charla_util**"
   ]
  },
  {
   "cell_type": "code",
   "execution_count": 95,
   "id": "99b644a3-05a5-4d51-a925-e08412c35d7f",
   "metadata": {},
   "outputs": [
    {
     "data": {
      "text/plain": [
       "<BarContainer object of 4 artists>"
      ]
     },
     "execution_count": 95,
     "metadata": {},
     "output_type": "execute_result"
    },
    {
     "data": {
      "image/png": "[encoded data removed]",
      "text/plain": [
       "<Figure size 432x288 with 1 Axes>"
      ]
     },
     "metadata": {
      "needs_background": "light"
     },
     "output_type": "display_data"
    }
   ],
   "source": [
    "plt.xticks( rotation = 90 )\n",
    "plt.bar( charla_util_pop['charla_util'] , charla_util_pop['porcentaje'] )"
   ]
  },
  {
   "cell_type": "markdown",
   "id": "2ec92dd9-04a3-4773-9799-33a1c1411459",
   "metadata": {},
   "source": [
    "**Analisis de dependencias**\n",
    "\n",
    "**Hipotesis**\n",
    "\n",
    "Cuanto conocimiento tenian los estudiantes antes de recibir la charla a la adquirida luego de la charla.\n",
    "\n",
    "Ho (nula) = Mide la independencia de dos variables, la de interes_tema_disruptivo y la de participar_investigacion_disruptiva no depende una de la otra.\n",
    "H1 (alternativa) = las variables de interes_tema_disruptivo y participar_investigacion_disruptiva son dependientes\n",
    "\n",
    "( Si el p-value es mayor a 0.05: la opcion a seleccionar es la hipotesis nula )"
   ]
  },
  {
   "cell_type": "code",
   "execution_count": null,
   "id": "3bf7f94c-515d-4a29-8f73-42320b0e483d",
   "metadata": {},
   "outputs": [],
   "source": [
    "#Antes y despues de la charla\n",
    "#conocimiento_cuantica"
   ]
  },
  {
   "cell_type": "code",
   "execution_count": 217,
   "id": "7524b69a-f0f9-4a0c-b65a-1e869c80aac1",
   "metadata": {},
   "outputs": [],
   "source": [
    "antes_charla_respuestas = encuesta1[\"conocimiento_cuantica\"][:48]"
   ]
  },
  {
   "cell_type": "code",
   "execution_count": 218,
   "id": "afa00457-cde6-4fa8-b01d-353f84a7669b",
   "metadata": {},
   "outputs": [
    {
     "data": {
      "text/plain": [
       "0     4\n",
       "1     2\n",
       "2     3\n",
       "3     3\n",
       "4     2\n",
       "5     1\n",
       "6     2\n",
       "7     2\n",
       "8     2\n",
       "9     1\n",
       "10    1\n",
       "11    3\n",
       "12    4\n",
       "13    2\n",
       "14    1\n",
       "15    2\n",
       "16    3\n",
       "17    1\n",
       "18    2\n",
       "19    1\n",
       "20    1\n",
       "21    2\n",
       "22    1\n",
       "23    1\n",
       "24    1\n",
       "25    1\n",
       "26    1\n",
       "27    2\n",
       "28    1\n",
       "29    1\n",
       "30    1\n",
       "31    2\n",
       "32    2\n",
       "33    1\n",
       "34    1\n",
       "35    4\n",
       "36    3\n",
       "37    1\n",
       "38    1\n",
       "39    1\n",
       "40    1\n",
       "41    3\n",
       "42    3\n",
       "43    1\n",
       "44    1\n",
       "45    4\n",
       "46    2\n",
       "47    3\n",
       "Name: conocimiento_cuantica, dtype: int64"
      ]
     },
     "execution_count": 218,
     "metadata": {},
     "output_type": "execute_result"
    }
   ],
   "source": [
    "antes_charla_respuestas"
   ]
  },
  {
   "cell_type": "code",
   "execution_count": 219,
   "id": "278b814f-d836-48df-8de4-c521fa43eeb5",
   "metadata": {},
   "outputs": [],
   "source": [
    "despues_charla_respuestas = encuesta1[\"conocimiento_cuantica\"][-36:]"
   ]
  },
  {
   "cell_type": "code",
   "execution_count": 220,
   "id": "35e42f73-c7ba-4e90-b3cb-fa1289ba84b4",
   "metadata": {},
   "outputs": [
    {
     "data": {
      "text/plain": [
       "48    2\n",
       "49    2\n",
       "50    2\n",
       "51    4\n",
       "52    4\n",
       "53    5\n",
       "54    2\n",
       "55    3\n",
       "56    1\n",
       "57    4\n",
       "58    1\n",
       "59    2\n",
       "60    2\n",
       "61    4\n",
       "62    3\n",
       "63    1\n",
       "64    4\n",
       "65    1\n",
       "66    3\n",
       "67    3\n",
       "68    1\n",
       "69    3\n",
       "70    1\n",
       "71    2\n",
       "72    3\n",
       "73    3\n",
       "74    1\n",
       "75    3\n",
       "76    1\n",
       "77    2\n",
       "78    3\n",
       "79    1\n",
       "80    1\n",
       "81    2\n",
       "82    4\n",
       "83    3\n",
       "Name: conocimiento_cuantica, dtype: int64"
      ]
     },
     "execution_count": 220,
     "metadata": {},
     "output_type": "execute_result"
    }
   ],
   "source": [
    "despues_charla_respuestas"
   ]
  },
  {
   "cell_type": "code",
   "execution_count": 221,
   "id": "fd5c7241-7d23-46ce-b66e-27967edb3f3b",
   "metadata": {},
   "outputs": [
    {
     "data": {
      "text/plain": [
       "1    0.479167\n",
       "2    0.270833\n",
       "3    0.166667\n",
       "4    0.083333\n",
       "Name: conocimiento_cuantica, dtype: float64"
      ]
     },
     "execution_count": 221,
     "metadata": {},
     "output_type": "execute_result"
    }
   ],
   "source": [
    "antes_charla_respuestas.value_counts()  / antes_charla_respuestas.shape[0]"
   ]
  },
  {
   "cell_type": "code",
   "execution_count": 222,
   "id": "675a364d-9fee-4988-9d40-55bc8291f14b",
   "metadata": {},
   "outputs": [
    {
     "data": {
      "text/plain": [
       "1    0.277778\n",
       "3    0.277778\n",
       "2    0.250000\n",
       "4    0.166667\n",
       "5    0.027778\n",
       "Name: conocimiento_cuantica, dtype: float64"
      ]
     },
     "execution_count": 222,
     "metadata": {},
     "output_type": "execute_result"
    }
   ],
   "source": [
    "despues_charla_respuestas.value_counts()  / despues_charla_respuestas.shape[0]"
   ]
  },
  {
   "cell_type": "code",
   "execution_count": 260,
   "id": "fbd65afe-5784-4796-96ef-d5a9c8226441",
   "metadata": {},
   "outputs": [],
   "source": [
    "contigency = pd.crosstab(despues_charla_respuestas,antes_charla_respuestas)"
   ]
  },
  {
   "cell_type": "code",
   "execution_count": 261,
   "id": "24d35366-e2ad-4a13-8cf9-101082ff30c4",
   "metadata": {},
   "outputs": [
    {
     "data": {
      "text/plain": [
       "<Figure size 864x576 with 0 Axes>"
      ]
     },
     "execution_count": 261,
     "metadata": {},
     "output_type": "execute_result"
    },
    {
     "data": {
      "text/plain": [
       "<Figure size 864x576 with 0 Axes>"
      ]
     },
     "metadata": {},
     "output_type": "display_data"
    }
   ],
   "source": [
    "plt.figure(figsize=(12,8))"
   ]
  },
  {
   "cell_type": "code",
   "execution_count": 262,
   "id": "29dbce5f-581e-4887-b958-2a2ffe336af6",
   "metadata": {},
   "outputs": [
    {
     "ename": "ValueError",
     "evalue": "zero-size array to reduction operation fmin which has no identity",
     "output_type": "error",
     "traceback": [
      "\u001b[1;31m---------------------------------------------------------------------------\u001b[0m",
      "\u001b[1;31mValueError\u001b[0m                                Traceback (most recent call last)",
      "\u001b[1;32m<ipython-input-262-252f1b176992>\u001b[0m in \u001b[0;36m<module>\u001b[1;34m\u001b[0m\n\u001b[1;32m----> 1\u001b[1;33m \u001b[0msns\u001b[0m\u001b[1;33m.\u001b[0m\u001b[0mheatmap\u001b[0m\u001b[1;33m(\u001b[0m \u001b[0mcontigency\u001b[0m \u001b[1;33m,\u001b[0m \u001b[0mannot\u001b[0m \u001b[1;33m=\u001b[0m \u001b[1;32mTrue\u001b[0m \u001b[1;33m,\u001b[0m \u001b[0mcmap\u001b[0m\u001b[1;33m=\u001b[0m\u001b[1;34m\"YlGnBu\"\u001b[0m \u001b[1;33m)\u001b[0m\u001b[1;33m\u001b[0m\u001b[1;33m\u001b[0m\u001b[0m\n\u001b[0m",
      "\u001b[1;32m~\\anaconda3\\lib\\site-packages\\seaborn\\_decorators.py\u001b[0m in \u001b[0;36minner_f\u001b[1;34m(*args, **kwargs)\u001b[0m\n\u001b[0;32m     44\u001b[0m             )\n\u001b[0;32m     45\u001b[0m         \u001b[0mkwargs\u001b[0m\u001b[1;33m.\u001b[0m\u001b[0mupdate\u001b[0m\u001b[1;33m(\u001b[0m\u001b[1;33m{\u001b[0m\u001b[0mk\u001b[0m\u001b[1;33m:\u001b[0m \u001b[0marg\u001b[0m \u001b[1;32mfor\u001b[0m \u001b[0mk\u001b[0m\u001b[1;33m,\u001b[0m \u001b[0marg\u001b[0m \u001b[1;32min\u001b[0m \u001b[0mzip\u001b[0m\u001b[1;33m(\u001b[0m\u001b[0msig\u001b[0m\u001b[1;33m.\u001b[0m\u001b[0mparameters\u001b[0m\u001b[1;33m,\u001b[0m \u001b[0margs\u001b[0m\u001b[1;33m)\u001b[0m\u001b[1;33m}\u001b[0m\u001b[1;33m)\u001b[0m\u001b[1;33m\u001b[0m\u001b[1;33m\u001b[0m\u001b[0m\n\u001b[1;32m---> 46\u001b[1;33m         \u001b[1;32mreturn\u001b[0m \u001b[0mf\u001b[0m\u001b[1;33m(\u001b[0m\u001b[1;33m**\u001b[0m\u001b[0mkwargs\u001b[0m\u001b[1;33m)\u001b[0m\u001b[1;33m\u001b[0m\u001b[1;33m\u001b[0m\u001b[0m\n\u001b[0m\u001b[0;32m     47\u001b[0m     \u001b[1;32mreturn\u001b[0m \u001b[0minner_f\u001b[0m\u001b[1;33m\u001b[0m\u001b[1;33m\u001b[0m\u001b[0m\n\u001b[0;32m     48\u001b[0m \u001b[1;33m\u001b[0m\u001b[0m\n",
      "\u001b[1;32m~\\anaconda3\\lib\\site-packages\\seaborn\\matrix.py\u001b[0m in \u001b[0;36mheatmap\u001b[1;34m(data, vmin, vmax, cmap, center, robust, annot, fmt, annot_kws, linewidths, linecolor, cbar, cbar_kws, cbar_ax, square, xticklabels, yticklabels, mask, ax, **kwargs)\u001b[0m\n\u001b[0;32m    533\u001b[0m     \"\"\"\n\u001b[0;32m    534\u001b[0m     \u001b[1;31m# Initialize the plotter object\u001b[0m\u001b[1;33m\u001b[0m\u001b[1;33m\u001b[0m\u001b[1;33m\u001b[0m\u001b[0m\n\u001b[1;32m--> 535\u001b[1;33m     plotter = _HeatMapper(data, vmin, vmax, cmap, center, robust, annot, fmt,\n\u001b[0m\u001b[0;32m    536\u001b[0m                           \u001b[0mannot_kws\u001b[0m\u001b[1;33m,\u001b[0m \u001b[0mcbar\u001b[0m\u001b[1;33m,\u001b[0m \u001b[0mcbar_kws\u001b[0m\u001b[1;33m,\u001b[0m \u001b[0mxticklabels\u001b[0m\u001b[1;33m,\u001b[0m\u001b[1;33m\u001b[0m\u001b[1;33m\u001b[0m\u001b[0m\n\u001b[0;32m    537\u001b[0m                           yticklabels, mask)\n",
      "\u001b[1;32m~\\anaconda3\\lib\\site-packages\\seaborn\\matrix.py\u001b[0m in \u001b[0;36m__init__\u001b[1;34m(self, data, vmin, vmax, cmap, center, robust, annot, fmt, annot_kws, cbar, cbar_kws, xticklabels, yticklabels, mask)\u001b[0m\n\u001b[0;32m    153\u001b[0m \u001b[1;33m\u001b[0m\u001b[0m\n\u001b[0;32m    154\u001b[0m         \u001b[1;31m# Determine good default values for the colormapping\u001b[0m\u001b[1;33m\u001b[0m\u001b[1;33m\u001b[0m\u001b[1;33m\u001b[0m\u001b[0m\n\u001b[1;32m--> 155\u001b[1;33m         self._determine_cmap_params(plot_data, vmin, vmax,\n\u001b[0m\u001b[0;32m    156\u001b[0m                                     cmap, center, robust)\n\u001b[0;32m    157\u001b[0m \u001b[1;33m\u001b[0m\u001b[0m\n",
      "\u001b[1;32m~\\anaconda3\\lib\\site-packages\\seaborn\\matrix.py\u001b[0m in \u001b[0;36m_determine_cmap_params\u001b[1;34m(self, plot_data, vmin, vmax, cmap, center, robust)\u001b[0m\n\u001b[0;32m    192\u001b[0m                 \u001b[0mvmin\u001b[0m \u001b[1;33m=\u001b[0m \u001b[0mnp\u001b[0m\u001b[1;33m.\u001b[0m\u001b[0mnanpercentile\u001b[0m\u001b[1;33m(\u001b[0m\u001b[0mcalc_data\u001b[0m\u001b[1;33m,\u001b[0m \u001b[1;36m2\u001b[0m\u001b[1;33m)\u001b[0m\u001b[1;33m\u001b[0m\u001b[1;33m\u001b[0m\u001b[0m\n\u001b[0;32m    193\u001b[0m             \u001b[1;32melse\u001b[0m\u001b[1;33m:\u001b[0m\u001b[1;33m\u001b[0m\u001b[1;33m\u001b[0m\u001b[0m\n\u001b[1;32m--> 194\u001b[1;33m                 \u001b[0mvmin\u001b[0m \u001b[1;33m=\u001b[0m \u001b[0mnp\u001b[0m\u001b[1;33m.\u001b[0m\u001b[0mnanmin\u001b[0m\u001b[1;33m(\u001b[0m\u001b[0mcalc_data\u001b[0m\u001b[1;33m)\u001b[0m\u001b[1;33m\u001b[0m\u001b[1;33m\u001b[0m\u001b[0m\n\u001b[0m\u001b[0;32m    195\u001b[0m         \u001b[1;32mif\u001b[0m \u001b[0mvmax\u001b[0m \u001b[1;32mis\u001b[0m \u001b[1;32mNone\u001b[0m\u001b[1;33m:\u001b[0m\u001b[1;33m\u001b[0m\u001b[1;33m\u001b[0m\u001b[0m\n\u001b[0;32m    196\u001b[0m             \u001b[1;32mif\u001b[0m \u001b[0mrobust\u001b[0m\u001b[1;33m:\u001b[0m\u001b[1;33m\u001b[0m\u001b[1;33m\u001b[0m\u001b[0m\n",
      "\u001b[1;32m<__array_function__ internals>\u001b[0m in \u001b[0;36mnanmin\u001b[1;34m(*args, **kwargs)\u001b[0m\n",
      "\u001b[1;32m~\\anaconda3\\lib\\site-packages\\numpy\\lib\\nanfunctions.py\u001b[0m in \u001b[0;36mnanmin\u001b[1;34m(a, axis, out, keepdims)\u001b[0m\n\u001b[0;32m    317\u001b[0m         \u001b[1;31m# Fast, but not safe for subclasses of ndarray, or object arrays,\u001b[0m\u001b[1;33m\u001b[0m\u001b[1;33m\u001b[0m\u001b[1;33m\u001b[0m\u001b[0m\n\u001b[0;32m    318\u001b[0m         \u001b[1;31m# which do not implement isnan (gh-9009), or fmin correctly (gh-8975)\u001b[0m\u001b[1;33m\u001b[0m\u001b[1;33m\u001b[0m\u001b[1;33m\u001b[0m\u001b[0m\n\u001b[1;32m--> 319\u001b[1;33m         \u001b[0mres\u001b[0m \u001b[1;33m=\u001b[0m \u001b[0mnp\u001b[0m\u001b[1;33m.\u001b[0m\u001b[0mfmin\u001b[0m\u001b[1;33m.\u001b[0m\u001b[0mreduce\u001b[0m\u001b[1;33m(\u001b[0m\u001b[0ma\u001b[0m\u001b[1;33m,\u001b[0m \u001b[0maxis\u001b[0m\u001b[1;33m=\u001b[0m\u001b[0maxis\u001b[0m\u001b[1;33m,\u001b[0m \u001b[0mout\u001b[0m\u001b[1;33m=\u001b[0m\u001b[0mout\u001b[0m\u001b[1;33m,\u001b[0m \u001b[1;33m**\u001b[0m\u001b[0mkwargs\u001b[0m\u001b[1;33m)\u001b[0m\u001b[1;33m\u001b[0m\u001b[1;33m\u001b[0m\u001b[0m\n\u001b[0m\u001b[0;32m    320\u001b[0m         \u001b[1;32mif\u001b[0m \u001b[0mnp\u001b[0m\u001b[1;33m.\u001b[0m\u001b[0misnan\u001b[0m\u001b[1;33m(\u001b[0m\u001b[0mres\u001b[0m\u001b[1;33m)\u001b[0m\u001b[1;33m.\u001b[0m\u001b[0many\u001b[0m\u001b[1;33m(\u001b[0m\u001b[1;33m)\u001b[0m\u001b[1;33m:\u001b[0m\u001b[1;33m\u001b[0m\u001b[1;33m\u001b[0m\u001b[0m\n\u001b[0;32m    321\u001b[0m             warnings.warn(\"All-NaN slice encountered\", RuntimeWarning,\n",
      "\u001b[1;31mValueError\u001b[0m: zero-size array to reduction operation fmin which has no identity"
     ]
    }
   ],
   "source": [
    "sns.heatmap( contigency , annot = True , cmap=\"YlGnBu\" )"
   ]
  },
  {
   "cell_type": "code",
   "execution_count": 214,
   "id": "7fab81ad-88b8-442c-8e45-c4f65fe1b714",
   "metadata": {},
   "outputs": [
    {
     "ename": "ValueError",
     "evalue": "No data; `observed` has size 0.",
     "output_type": "error",
     "traceback": [
      "\u001b[1;31m---------------------------------------------------------------------------\u001b[0m",
      "\u001b[1;31mValueError\u001b[0m                                Traceback (most recent call last)",
      "\u001b[1;32m<ipython-input-214-4e9ba3cc4166>\u001b[0m in \u001b[0;36m<module>\u001b[1;34m\u001b[0m\n\u001b[1;32m----> 1\u001b[1;33m \u001b[0mc\u001b[0m\u001b[1;33m,\u001b[0m \u001b[0mp\u001b[0m\u001b[1;33m,\u001b[0m \u001b[0mdof\u001b[0m\u001b[1;33m,\u001b[0m \u001b[0mexpected\u001b[0m  \u001b[1;33m=\u001b[0m \u001b[0mchi2_contingency\u001b[0m\u001b[1;33m(\u001b[0m\u001b[0mcontigency\u001b[0m\u001b[1;33m)\u001b[0m\u001b[1;33m\u001b[0m\u001b[1;33m\u001b[0m\u001b[0m\n\u001b[0m",
      "\u001b[1;32m~\\anaconda3\\lib\\site-packages\\scipy\\stats\\contingency.py\u001b[0m in \u001b[0;36mchi2_contingency\u001b[1;34m(observed, correction, lambda_)\u001b[0m\n\u001b[0;32m    243\u001b[0m         \u001b[1;32mraise\u001b[0m \u001b[0mValueError\u001b[0m\u001b[1;33m(\u001b[0m\u001b[1;34m\"All values in `observed` must be nonnegative.\"\u001b[0m\u001b[1;33m)\u001b[0m\u001b[1;33m\u001b[0m\u001b[1;33m\u001b[0m\u001b[0m\n\u001b[0;32m    244\u001b[0m     \u001b[1;32mif\u001b[0m \u001b[0mobserved\u001b[0m\u001b[1;33m.\u001b[0m\u001b[0msize\u001b[0m \u001b[1;33m==\u001b[0m \u001b[1;36m0\u001b[0m\u001b[1;33m:\u001b[0m\u001b[1;33m\u001b[0m\u001b[1;33m\u001b[0m\u001b[0m\n\u001b[1;32m--> 245\u001b[1;33m         \u001b[1;32mraise\u001b[0m \u001b[0mValueError\u001b[0m\u001b[1;33m(\u001b[0m\u001b[1;34m\"No data; `observed` has size 0.\"\u001b[0m\u001b[1;33m)\u001b[0m\u001b[1;33m\u001b[0m\u001b[1;33m\u001b[0m\u001b[0m\n\u001b[0m\u001b[0;32m    246\u001b[0m \u001b[1;33m\u001b[0m\u001b[0m\n\u001b[0;32m    247\u001b[0m     \u001b[0mexpected\u001b[0m \u001b[1;33m=\u001b[0m \u001b[0mexpected_freq\u001b[0m\u001b[1;33m(\u001b[0m\u001b[0mobserved\u001b[0m\u001b[1;33m)\u001b[0m\u001b[1;33m\u001b[0m\u001b[1;33m\u001b[0m\u001b[0m\n",
      "\u001b[1;31mValueError\u001b[0m: No data; `observed` has size 0."
     ]
    }
   ],
   "source": [
    "c, p, dof, expected  = chi2_contingency(contigency)"
   ]
  },
  {
   "cell_type": "code",
   "execution_count": 134,
   "id": "9ba12ac9-1a79-4e1c-9203-8c83af4b86b2",
   "metadata": {},
   "outputs": [
    {
     "data": {
      "text/plain": [
       "0.6556935805394006"
      ]
     },
     "execution_count": 134,
     "metadata": {},
     "output_type": "execute_result"
    }
   ],
   "source": [
    "p"
   ]
  },
  {
   "cell_type": "markdown",
   "id": "8578944f-4253-4b60-8dad-5dfbc5407edf",
   "metadata": {},
   "source": [
    "**ANALISIS**\n",
    "\n",
    "**Hipotesis**\n",
    "\n",
    "Trabajo con contenido profesionalizante\n",
    "\n",
    "Ho (nula) = Mide la independencia de dos variables, la de interes_tema_disruptivo y la de participar_investigacion_disruptiva no depende una de la otra.\n",
    "H1 (alternativa) = las variables de interes_tema_disruptivo y participar_investigacion_disruptiva son dependientes\n",
    "\n",
    "( Si el p-value es mayor a 0.05: la opcion a seleccionar es la hipotesis nula )"
   ]
  },
  {
   "cell_type": "code",
   "execution_count": 226,
   "id": "bd723b51-f1f5-4a0d-9c9d-0d0b09414a06",
   "metadata": {},
   "outputs": [],
   "source": [
    "#trabaja\n",
    "#contenido_profesional"
   ]
  },
  {
   "cell_type": "code",
   "execution_count": 228,
   "id": "adb003c7-8faf-4af1-a252-980b7ec5db71",
   "metadata": {},
   "outputs": [
    {
     "data": {
      "text/plain": [
       "Antes de la charla    0.428571\n",
       "Si                    0.297619\n",
       "No                    0.273810\n",
       "Name: trabaja, dtype: float64"
      ]
     },
     "execution_count": 228,
     "metadata": {},
     "output_type": "execute_result"
    }
   ],
   "source": [
    "encuesta1[\"trabaja\"].value_counts()  / encuesta1.shape[0]"
   ]
  },
  {
   "cell_type": "code",
   "execution_count": 232,
   "id": "041fd41f-88e9-4c01-a30b-b359461495e4",
   "metadata": {},
   "outputs": [],
   "source": [
    "trabaja_valores = encuesta1.loc[encuesta1['trabaja'] != 'Antes de la charla', 'trabaja'].astype(str)"
   ]
  },
  {
   "cell_type": "code",
   "execution_count": 233,
   "id": "4a09dc67-51ed-43d8-aefd-11733f3d380e",
   "metadata": {},
   "outputs": [
    {
     "data": {
      "text/plain": [
       "Si    0.520833\n",
       "No    0.479167\n",
       "Name: trabaja, dtype: float64"
      ]
     },
     "execution_count": 233,
     "metadata": {},
     "output_type": "execute_result"
    }
   ],
   "source": [
    "trabaja_valores.value_counts()  / trabaja_valores.shape[0]"
   ]
  },
  {
   "cell_type": "code",
   "execution_count": 234,
   "id": "52dca275-cc3c-4136-9e6d-0dd9aeb94859",
   "metadata": {},
   "outputs": [
    {
     "data": {
      "text/plain": [
       "Si                    0.559524\n",
       "Antes de la charla    0.428571\n",
       "No                    0.011905\n",
       "Name: contenido_profesional, dtype: float64"
      ]
     },
     "execution_count": 234,
     "metadata": {},
     "output_type": "execute_result"
    }
   ],
   "source": [
    "encuesta1[\"contenido_profesional\"].value_counts()  / encuesta1.shape[0]"
   ]
  },
  {
   "cell_type": "code",
   "execution_count": 235,
   "id": "ee3e1c37-edc9-4188-8bbb-414d2e6454ee",
   "metadata": {},
   "outputs": [],
   "source": [
    "contenido_profesional_valores = encuesta1.loc[encuesta1['contenido_profesional'] != 'Antes de la charla', 'contenido_profesional'].astype(str)"
   ]
  },
  {
   "cell_type": "code",
   "execution_count": 237,
   "id": "9d499ec5-510e-493d-996a-bec4ebdcad3e",
   "metadata": {},
   "outputs": [
    {
     "data": {
      "text/plain": [
       "Si    0.979167\n",
       "No    0.020833\n",
       "Name: contenido_profesional, dtype: float64"
      ]
     },
     "execution_count": 237,
     "metadata": {},
     "output_type": "execute_result"
    }
   ],
   "source": [
    "contenido_profesional_valores.value_counts() / contenido_profesional_valores.shape[0]"
   ]
  },
  {
   "cell_type": "code",
   "execution_count": 244,
   "id": "a36c90db-5261-4f73-bd21-12558e758ab6",
   "metadata": {},
   "outputs": [],
   "source": [
    "contigency = pd.crosstab( contenido_profesional_valores, trabaja_valores )"
   ]
  },
  {
   "cell_type": "code",
   "execution_count": 245,
   "id": "6912135c-a22d-4511-8b40-7605b207e1f2",
   "metadata": {},
   "outputs": [
    {
     "data": {
      "text/plain": [
       "<Figure size 864x576 with 0 Axes>"
      ]
     },
     "execution_count": 245,
     "metadata": {},
     "output_type": "execute_result"
    },
    {
     "data": {
      "text/plain": [
       "<Figure size 864x576 with 0 Axes>"
      ]
     },
     "metadata": {},
     "output_type": "display_data"
    }
   ],
   "source": [
    "plt.figure(figsize=(12,8))"
   ]
  },
  {
   "cell_type": "code",
   "execution_count": 246,
   "id": "729effbd-bd6c-4820-85cf-f1bd0498aeca",
   "metadata": {},
   "outputs": [
    {
     "data": {
      "text/plain": [
       "<AxesSubplot:xlabel='trabaja', ylabel='contenido_profesional'>"
      ]
     },
     "execution_count": 246,
     "metadata": {},
     "output_type": "execute_result"
    },
    {
     "data": {
      "image/png": "[encoded data removed]",
      "text/plain": [
       "<Figure size 432x288 with 2 Axes>"
      ]
     },
     "metadata": {
      "needs_background": "light"
     },
     "output_type": "display_data"
    }
   ],
   "source": [
    "sns.heatmap( contigency , annot = True , cmap=\"YlGnBu\" )"
   ]
  },
  {
   "cell_type": "code",
   "execution_count": 256,
   "id": "10402b91-dfe5-4742-829c-5571af90765e",
   "metadata": {},
   "outputs": [],
   "source": [
    "c, p, dof, expected  = chi2_contingency(contigency)"
   ]
  },
  {
   "cell_type": "code",
   "execution_count": 257,
   "id": "23c5c992-2ec6-43a2-8fa7-87bfd6513e3e",
   "metadata": {},
   "outputs": [
    {
     "data": {
      "text/plain": [
       "0.507524182949593"
      ]
     },
     "execution_count": 257,
     "metadata": {},
     "output_type": "execute_result"
    }
   ],
   "source": [
    "p"
   ]
  },
  {
   "cell_type": "markdown",
   "id": "cf026c8f-5c45-4052-b6c0-a79e7610ef01",
   "metadata": {},
   "source": [
    "**ANALISIS**\n",
    "\n",
    "**Hipotesis**\n",
    "\n",
    " Trabajo con contenido científico \n",
    "\n",
    "Ho (nula) = Mide la independencia de dos variables, la de interes_tema_disruptivo y la de participar_investigacion_disruptiva no depende una de la otra.\n",
    "H1 (alternativa) = las variables de interes_tema_disruptivo y participar_investigacion_disruptiva son dependientes\n",
    "\n",
    "( Si el p-value es mayor a 0.05: la opcion a seleccionar es la hipotesis nula )"
   ]
  },
  {
   "cell_type": "code",
   "execution_count": 252,
   "id": "45277146-3318-4a03-b602-4c63a248fd3d",
   "metadata": {},
   "outputs": [],
   "source": [
    "#trabaja\n",
    "#contenido_cientifico"
   ]
  },
  {
   "cell_type": "code",
   "execution_count": 249,
   "id": "df4d1c03-7fda-427b-83a9-6acb21125ed8",
   "metadata": {},
   "outputs": [
    {
     "data": {
      "text/plain": [
       "Si                    0.547619\n",
       "Antes de la charla    0.428571\n",
       "No                    0.023810\n",
       "Name: contenido_cientifico, dtype: float64"
      ]
     },
     "execution_count": 249,
     "metadata": {},
     "output_type": "execute_result"
    }
   ],
   "source": [
    "encuesta1[\"contenido_cientifico\"].value_counts()  / encuesta1.shape[0]"
   ]
  },
  {
   "cell_type": "code",
   "execution_count": 250,
   "id": "6aceacdb-509a-428a-94f8-e8d40d039364",
   "metadata": {},
   "outputs": [],
   "source": [
    "contenido_cientifico_valores = encuesta1.loc[encuesta1['contenido_cientifico'] != 'Antes de la charla', 'contenido_cientifico'].astype(str)"
   ]
  },
  {
   "cell_type": "code",
   "execution_count": 251,
   "id": "126058ea-11f9-4247-ab51-00fb48eaa2b8",
   "metadata": {},
   "outputs": [
    {
     "data": {
      "text/plain": [
       "Si    0.958333\n",
       "No    0.041667\n",
       "Name: contenido_cientifico, dtype: float64"
      ]
     },
     "execution_count": 251,
     "metadata": {},
     "output_type": "execute_result"
    }
   ],
   "source": [
    "contenido_cientifico_valores.value_counts() / contenido_cientifico_valores.shape[0]"
   ]
  },
  {
   "cell_type": "code",
   "execution_count": 253,
   "id": "e31c9afc-b62f-42b6-a0f2-997f8a7f8000",
   "metadata": {},
   "outputs": [],
   "source": [
    "contigency = pd.crosstab( contenido_cientifico_valores, trabaja_valores )"
   ]
  },
  {
   "cell_type": "code",
   "execution_count": 254,
   "id": "8caa1a70-310b-497d-8dd5-ae9ad7a4ef18",
   "metadata": {},
   "outputs": [
    {
     "data": {
      "text/plain": [
       "<Figure size 864x576 with 0 Axes>"
      ]
     },
     "execution_count": 254,
     "metadata": {},
     "output_type": "execute_result"
    },
    {
     "data": {
      "text/plain": [
       "<Figure size 864x576 with 0 Axes>"
      ]
     },
     "metadata": {},
     "output_type": "display_data"
    }
   ],
   "source": [
    "plt.figure(figsize=(12,8))"
   ]
  },
  {
   "cell_type": "code",
   "execution_count": 255,
   "id": "21e320e0-a2d0-4ff7-b2ed-4f954414ba2a",
   "metadata": {},
   "outputs": [
    {
     "data": {
      "text/plain": [
       "<AxesSubplot:xlabel='trabaja', ylabel='contenido_cientifico'>"
      ]
     },
     "execution_count": 255,
     "metadata": {},
     "output_type": "execute_result"
    },
    {
     "data": {
      "image/png": "[encoded data removed]",
      "text/plain": [
       "<Figure size 432x288 with 2 Axes>"
      ]
     },
     "metadata": {
      "needs_background": "light"
     },
     "output_type": "display_data"
    }
   ],
   "source": [
    "sns.heatmap( contigency , annot = True , cmap=\"YlGnBu\" )"
   ]
  },
  {
   "cell_type": "code",
   "execution_count": 258,
   "id": "a6084fa1-d937-49dc-8dc5-a3a868f203a8",
   "metadata": {},
   "outputs": [],
   "source": [
    "c, p, dof, expected  = chi2_contingency(contigency)"
   ]
  },
  {
   "cell_type": "code",
   "execution_count": 259,
   "id": "539c6643-d07f-4270-ad29-fa9c1e05b613",
   "metadata": {},
   "outputs": [
    {
     "data": {
      "text/plain": [
       "0.507524182949593"
      ]
     },
     "execution_count": 259,
     "metadata": {},
     "output_type": "execute_result"
    }
   ],
   "source": [
    "p"
   ]
  }
 ],
 "metadata": {
  "kernelspec": {
   "display_name": "Python 3",
   "language": "python",
   "name": "python3"
  },
  "language_info": {
   "codemirror_mode": {
    "name": "ipython",
    "version": 3
   },
   "file_extension": ".py",
   "mimetype": "text/x-python",
   "name": "python",
   "nbconvert_exporter": "python",
   "pygments_lexer": "ipython3",
   "version": "3.8.8"
  }
 },
 "nbformat": 4,
 "nbformat_minor": 5
}
